{
 "cells": [
  {
   "cell_type": "code",
   "execution_count": 1,
   "metadata": {},
   "outputs": [
    {
     "name": "stderr",
     "output_type": "stream",
     "text": [
      "c:\\users\\lukewolc\\appdata\\local\\programs\\python\\python37\\lib\\site-packages\\pydub\\utils.py:165: RuntimeWarning: Couldn't find ffmpeg or avconv - defaulting to ffmpeg, but may not work\n",
      "  warn(\"Couldn't find ffmpeg or avconv - defaulting to ffmpeg, but may not work\", RuntimeWarning)\n",
      "Using TensorFlow backend.\n"
     ]
    }
   ],
   "source": [
    "import numpy as np\n",
    "import random\n",
    "import sys\n",
    "import io\n",
    "import os\n",
    "from mb_utils import *\n",
    "%matplotlib inline\n",
    "import pickle\n",
    "\n",
    "import pandas as pd"
   ]
  },
  {
   "cell_type": "code",
   "execution_count": 2,
   "metadata": {},
   "outputs": [],
   "source": [
    "from keras.callbacks import ModelCheckpoint, TensorBoard\n",
    "from keras.models import Model, load_model, Sequential\n",
    "from keras.layers import Dense, Activation, Dropout, Input, Masking, TimeDistributed, LSTM, Conv1D\n",
    "from keras.layers import GRU, Bidirectional, BatchNormalization, Reshape, Flatten\n",
    "from keras.optimizers import Adam\n",
    "from keras.utils import np_utils\n",
    "import keras.backend as K\n",
    "from time import time"
   ]
  },
  {
   "cell_type": "code",
   "execution_count": 3,
   "metadata": {},
   "outputs": [],
   "source": [
    "from importlib import reload\n",
    "import mb_utils"
   ]
  },
  {
   "cell_type": "code",
   "execution_count": 4,
   "metadata": {},
   "outputs": [],
   "source": [
    "reload(mb_utils)\n",
    "from mb_utils import *"
   ]
  },
  {
   "cell_type": "code",
   "execution_count": 5,
   "metadata": {},
   "outputs": [],
   "source": [
    "Tx = 2754 #5511 # The number of time steps input to the model from the spectrogram\n",
    "n_freq = 101 # Number of frequencies input to the model at each time step of the spectrogram\n",
    "Ty = 1375 # The number of time steps in the output of our model"
   ]
  },
  {
   "cell_type": "markdown",
   "metadata": {
    "collapsed": true
   },
   "source": [
    "# model training"
   ]
  },
  {
   "cell_type": "code",
   "execution_count": 6,
   "metadata": {},
   "outputs": [
    {
     "name": "stdout",
     "output_type": "stream",
     "text": [
      "Size of X_training: (1000, 2754, 101)\n",
      "Size of X_val: (400, 2754, 101)\n"
     ]
    }
   ],
   "source": [
    "# load training features and labels for 1000 \n",
    "\n",
    "file = open('XY_train/X_1000_5sec_v0.pkl', 'rb')\n",
    "X_training = pickle.load(file)\n",
    "file.close()\n",
    "\n",
    "file = open('XY_train/y_1000_5sec_v0.pkl', 'rb')\n",
    "y_training = pickle.load(file)\n",
    "file.close()\n",
    "\n",
    "# load validation features and labels\n",
    "file = open('XY_val/X_400_5sec_100_100_200.pkl', 'rb')\n",
    "X_val = pickle.load(file)\n",
    "file.close()\n",
    "\n",
    "file = open('XY_val/y_400_5sec_100_100_200.pkl', 'rb')\n",
    "y_val = pickle.load(file)\n",
    "file.close()\n",
    "\n",
    "# one-hot encode labels\n",
    "y_training_oh = encode_and_oh_labels(y_training)\n",
    "y_val_oh = encode_and_oh_labels(y_val)\n",
    "\n",
    "print('Size of X_training: {}'.format(X_training.shape))\n",
    "print('Size of X_val: {}'.format(X_val.shape))"
   ]
  },
  {
   "cell_type": "code",
   "execution_count": 6,
   "metadata": {},
   "outputs": [
    {
     "name": "stdout",
     "output_type": "stream",
     "text": [
      "Size of X_training: (4000, 2754, 101)\n",
      "Size of X_val: (400, 2754, 101)\n"
     ]
    }
   ],
   "source": [
    "# load training features and labels for 4000 over 4 files\n",
    "\n",
    "#v0\n",
    "file = open('XY_train/X_1000_5sec_v0.pkl', 'rb')\n",
    "X_training_v0 = pickle.load(file)\n",
    "file.close()\n",
    "\n",
    "file = open('XY_train/y_1000_5sec_v0.pkl', 'rb')\n",
    "y_training_v0 = pickle.load(file)\n",
    "file.close()\n",
    "\n",
    "#v1\n",
    "file = open('XY_train/X_1000_5sec_v1.pkl', 'rb')\n",
    "X_training_v1 = pickle.load(file)\n",
    "file.close()\n",
    "\n",
    "file = open('XY_train/y_1000_5sec_v1.pkl', 'rb')\n",
    "y_training_v1 = pickle.load(file)\n",
    "file.close()\n",
    "\n",
    "#v2\n",
    "file = open('XY_train/X_1000_5sec_v2.pkl', 'rb')\n",
    "X_training_v2 = pickle.load(file)\n",
    "file.close()\n",
    "\n",
    "file = open('XY_train/y_1000_5sec_v2.pkl', 'rb')\n",
    "y_training_v2 = pickle.load(file)\n",
    "file.close()\n",
    "\n",
    "#v3\n",
    "file = open('XY_train/X_1000_5sec_v3.pkl', 'rb')\n",
    "X_training_v3 = pickle.load(file)\n",
    "file.close()\n",
    "\n",
    "file = open('XY_train/y_1000_5sec_v3.pkl', 'rb')\n",
    "y_training_v3 = pickle.load(file)\n",
    "file.close()\n",
    "\n",
    "X_training = np.concatenate([X_training_v0, X_training_v1, X_training_v2, X_training_v3])\n",
    "y_training = np.concatenate([y_training_v0, y_training_v1, y_training_v2, y_training_v3])\n",
    "\n",
    "del(X_training_v0)\n",
    "del(X_training_v1)\n",
    "del(X_training_v2)\n",
    "del(X_training_v3)\n",
    "\n",
    "# load validation features and labels\n",
    "file = open('XY_val/X_400_5sec_100_100_200.pkl', 'rb')\n",
    "X_val = pickle.load(file)\n",
    "file.close()\n",
    "\n",
    "file = open('XY_val/y_400_5sec_100_100_200.pkl', 'rb')\n",
    "y_val = pickle.load(file)\n",
    "file.close()\n",
    "\n",
    "# one-hot encode labels\n",
    "y_training_oh = encode_and_oh_labels(y_training)\n",
    "y_val_oh = encode_and_oh_labels(y_val)\n",
    "\n",
    "print('Size of X_training: {}'.format(X_training.shape))\n",
    "print('Size of X_val: {}'.format(X_val.shape))"
   ]
  },
  {
   "cell_type": "code",
   "execution_count": 6,
   "metadata": {},
   "outputs": [
    {
     "name": "stdout",
     "output_type": "stream",
     "text": [
      "Size of X_training: (8000, 2754, 101)\n",
      "Size of X_val: (400, 2754, 101)\n"
     ]
    }
   ],
   "source": [
    "# load training features and labels for 8000 over 8 files\n",
    "\n",
    "#v0\n",
    "file = open('XY_train/X_1000_5sec_v0.pkl', 'rb')\n",
    "X_training_v0 = pickle.load(file)\n",
    "file.close()\n",
    "\n",
    "file = open('XY_train/y_1000_5sec_v0.pkl', 'rb')\n",
    "y_training_v0 = pickle.load(file)\n",
    "file.close()\n",
    "\n",
    "#v1\n",
    "file = open('XY_train/X_1000_5sec_v1.pkl', 'rb')\n",
    "X_training_v1 = pickle.load(file)\n",
    "file.close()\n",
    "\n",
    "file = open('XY_train/y_1000_5sec_v1.pkl', 'rb')\n",
    "y_training_v1 = pickle.load(file)\n",
    "file.close()\n",
    "\n",
    "#v2\n",
    "file = open('XY_train/X_1000_5sec_v2.pkl', 'rb')\n",
    "X_training_v2 = pickle.load(file)\n",
    "file.close()\n",
    "\n",
    "file = open('XY_train/y_1000_5sec_v2.pkl', 'rb')\n",
    "y_training_v2 = pickle.load(file)\n",
    "file.close()\n",
    "\n",
    "#v3\n",
    "file = open('XY_train/X_1000_5sec_v3.pkl', 'rb')\n",
    "X_training_v3 = pickle.load(file)\n",
    "file.close()\n",
    "\n",
    "file = open('XY_train/y_1000_5sec_v3.pkl', 'rb')\n",
    "y_training_v3 = pickle.load(file)\n",
    "file.close()\n",
    "\n",
    "#v4\n",
    "file = open('XY_train/X_1000_5sec_v4.pkl', 'rb')\n",
    "X_training_v4 = pickle.load(file)\n",
    "file.close()\n",
    "\n",
    "file = open('XY_train/y_1000_5sec_v4.pkl', 'rb')\n",
    "y_training_v4 = pickle.load(file)\n",
    "file.close()\n",
    "\n",
    "#v5\n",
    "file = open('XY_train/X_1000_5sec_v5.pkl', 'rb')\n",
    "X_training_v5 = pickle.load(file)\n",
    "file.close()\n",
    "\n",
    "file = open('XY_train/y_1000_5sec_v5.pkl', 'rb')\n",
    "y_training_v5 = pickle.load(file)\n",
    "file.close()\n",
    "\n",
    "#v6\n",
    "file = open('XY_train/X_1000_5sec_v6.pkl', 'rb')\n",
    "X_training_v6 = pickle.load(file)\n",
    "file.close()\n",
    "\n",
    "file = open('XY_train/y_1000_5sec_v6.pkl', 'rb')\n",
    "y_training_v6 = pickle.load(file)\n",
    "file.close()\n",
    "\n",
    "#v7\n",
    "file = open('XY_train/X_1000_5sec_v7.pkl', 'rb')\n",
    "X_training_v7 = pickle.load(file)\n",
    "file.close()\n",
    "\n",
    "file = open('XY_train/y_1000_5sec_v7.pkl', 'rb')\n",
    "y_training_v7 = pickle.load(file)\n",
    "file.close()\n",
    "\n",
    "X_training = np.concatenate([X_training_v0, X_training_v1, X_training_v2, X_training_v3,\n",
    "                            X_training_v4, X_training_v5, X_training_v6, X_training_v7])\n",
    "y_training = np.concatenate([y_training_v0, y_training_v1, y_training_v2, y_training_v3,\n",
    "                            y_training_v4, y_training_v5, y_training_v6, y_training_v7])\n",
    "\n",
    "del(X_training_v0)\n",
    "del(X_training_v1)\n",
    "del(X_training_v2)\n",
    "del(X_training_v3)\n",
    "del(X_training_v4)\n",
    "del(X_training_v5)\n",
    "del(X_training_v6)\n",
    "del(X_training_v7)\n",
    "\n",
    "# load validation features and labels\n",
    "file = open('XY_val/X_400_5sec_100_100_200.pkl', 'rb')\n",
    "X_val = pickle.load(file)\n",
    "file.close()\n",
    "\n",
    "file = open('XY_val/y_400_5sec_100_100_200.pkl', 'rb')\n",
    "y_val = pickle.load(file)\n",
    "file.close()\n",
    "\n",
    "# one-hot encode labels\n",
    "y_training_oh = encode_and_oh_labels(y_training)\n",
    "y_val_oh = encode_and_oh_labels(y_val)\n",
    "\n",
    "print('Size of X_training: {}'.format(X_training.shape))\n",
    "print('Size of X_val: {}'.format(X_val.shape))"
   ]
  },
  {
   "cell_type": "code",
   "execution_count": 7,
   "metadata": {},
   "outputs": [],
   "source": [
    "label_decoder_dict = {0:'empty', 1:'enough', 2:'not_enough'}"
   ]
  },
  {
   "cell_type": "code",
   "execution_count": 8,
   "metadata": {},
   "outputs": [],
   "source": [
    "# shuffle training data explicitly\n",
    "np.random.seed(134)\n",
    "perm = np.random.permutation(len(X_training))\n",
    "\n",
    "X_training = X_training[perm]\n",
    "y_training = y_training[perm]\n",
    "y_training_oh = y_training_oh[perm]"
   ]
  },
  {
   "cell_type": "code",
   "execution_count": 25,
   "metadata": {},
   "outputs": [],
   "source": [
    "def model(input_shape):\n",
    "    X_input = Input(shape = input_shape)\n",
    "    \n",
    "    X = Conv1D(filters=196, kernel_size=15, strides=4)(X_input)\n",
    "    X = BatchNormalization()(X)\n",
    "    X = Activation('relu')(X)\n",
    "    X = Dropout(0.0)(X)\n",
    "    \n",
    "    X = Bidirectional(LSTM(units=128))(X)\n",
    "    X = Dense(3, activation='softmax')(X)\n",
    "\n",
    "    model = Model(inputs = X_input, outputs = X)\n",
    "    \n",
    "    return model  "
   ]
  },
  {
   "cell_type": "code",
   "execution_count": 9,
   "metadata": {},
   "outputs": [],
   "source": [
    "def gru_model(input_shape):\n",
    "    X_input = Input(shape = input_shape)\n",
    "    \n",
    "    X = Conv1D(filters=196, kernel_size=15, strides=4)(X_input)\n",
    "    X = BatchNormalization()(X)\n",
    "    X = Activation('relu')(X)\n",
    "    X = Dropout(0.5)(X)\n",
    "\n",
    "    X = GRU(units=128, return_sequences = True)(X)\n",
    "    X = Dropout(0.5)(X)\n",
    "    X = BatchNormalization()(X)\n",
    "    \n",
    "    X = GRU(units=128, return_sequences = True)(X)\n",
    "    X = Dropout(0.5)(X)\n",
    "    X = BatchNormalization()(X)\n",
    "    X = Dropout(0.5)(X)\n",
    "    \n",
    "    X = TimeDistributed(Dense(1, activation='relu'))(X)\n",
    "    X = Reshape((685,))(X)\n",
    "    X = Dense(3, activation='softmax')(X)\n",
    "    \n",
    "    model = Model(inputs=X_input, outputs=X)\n",
    "    return model"
   ]
  },
  {
   "cell_type": "code",
   "execution_count": 9,
   "metadata": {},
   "outputs": [],
   "source": [
    "def gru_model2(input_shape):\n",
    "    X_input = Input(shape = input_shape)\n",
    "    \n",
    "    X = Conv1D(filters=196, kernel_size=15, strides=4)(X_input)\n",
    "    X = BatchNormalization()(X)\n",
    "    X = Activation('relu')(X)\n",
    "    X = Dropout(0.5)(X)\n",
    "\n",
    "    X = GRU(units=128, return_sequences = True)(X)\n",
    "    X = Dropout(0.5)(X)\n",
    "    X = BatchNormalization()(X)\n",
    "    \n",
    "    X = GRU(units=128, return_sequences = True)(X)\n",
    "    X = Dropout(0.5)(X)\n",
    "    X = BatchNormalization()(X)\n",
    "    X = Dropout(0.5)(X)\n",
    "    \n",
    "#    X = TimeDistributed(Dense(1, activation='relu'))(X)\n",
    "#    X = Reshape((685,))(X)\n",
    "    X = Flatten()(X)\n",
    "    X = Dense(3, activation='softmax')(X)\n",
    "    \n",
    "    model = Model(inputs=X_input, outputs=X)\n",
    "    return model"
   ]
  },
  {
   "cell_type": "code",
   "execution_count": 18,
   "metadata": {},
   "outputs": [],
   "source": [
    "def gru_model3(input_shape):\n",
    "    X_input = Input(shape = input_shape)\n",
    "    \n",
    "    X = Conv1D(filters=196, kernel_size=15, strides=4)(X_input)\n",
    "    X = BatchNormalization()(X)\n",
    "    X = Activation('relu')(X)\n",
    "    X = Dropout(0.5)(X)\n",
    "\n",
    "    X = GRU(units=128, return_sequences = True)(X)\n",
    "    X = Dropout(0.5)(X)\n",
    "    X = BatchNormalization()(X)\n",
    "    \n",
    "    X = GRU(units=128, return_sequences = False)(X)\n",
    "    X = Dropout(0.5)(X)\n",
    "    X = BatchNormalization()(X)\n",
    "    X = Dropout(0.5)(X)\n",
    "    \n",
    "#    X = TimeDistributed(Dense(1, activation='relu'))(X)\n",
    "#    X = Reshape((685,))(X)\n",
    "    #X = Flatten()(X)\n",
    "    X = Dense(3, activation='softmax')(X)\n",
    "    \n",
    "    model = Model(inputs=X_input, outputs=X)\n",
    "    return model"
   ]
  },
  {
   "cell_type": "code",
   "execution_count": 10,
   "metadata": {},
   "outputs": [
    {
     "name": "stdout",
     "output_type": "stream",
     "text": [
      "WARNING:tensorflow:From c:\\users\\lukewolc\\appdata\\local\\programs\\python\\python37\\lib\\site-packages\\keras\\backend\\tensorflow_backend.py:95: The name tf.reset_default_graph is deprecated. Please use tf.compat.v1.reset_default_graph instead.\n",
      "\n",
      "WARNING:tensorflow:From c:\\users\\lukewolc\\appdata\\local\\programs\\python\\python37\\lib\\site-packages\\keras\\backend\\tensorflow_backend.py:98: The name tf.placeholder_with_default is deprecated. Please use tf.compat.v1.placeholder_with_default instead.\n",
      "\n",
      "WARNING:tensorflow:From c:\\users\\lukewolc\\appdata\\local\\programs\\python\\python37\\lib\\site-packages\\keras\\backend\\tensorflow_backend.py:102: The name tf.get_default_graph is deprecated. Please use tf.compat.v1.get_default_graph instead.\n",
      "\n"
     ]
    }
   ],
   "source": [
    "K.clear_session()"
   ]
  },
  {
   "cell_type": "code",
   "execution_count": 11,
   "metadata": {},
   "outputs": [
    {
     "name": "stdout",
     "output_type": "stream",
     "text": [
      "WARNING:tensorflow:From c:\\users\\lukewolc\\appdata\\local\\programs\\python\\python37\\lib\\site-packages\\keras\\backend\\tensorflow_backend.py:517: The name tf.placeholder is deprecated. Please use tf.compat.v1.placeholder instead.\n",
      "\n",
      "WARNING:tensorflow:From c:\\users\\lukewolc\\appdata\\local\\programs\\python\\python37\\lib\\site-packages\\keras\\backend\\tensorflow_backend.py:4138: The name tf.random_uniform is deprecated. Please use tf.random.uniform instead.\n",
      "\n",
      "WARNING:tensorflow:From c:\\users\\lukewolc\\appdata\\local\\programs\\python\\python37\\lib\\site-packages\\keras\\backend\\tensorflow_backend.py:3445: calling dropout (from tensorflow.python.ops.nn_ops) with keep_prob is deprecated and will be removed in a future version.\n",
      "Instructions for updating:\n",
      "Please use `rate` instead of `keep_prob`. Rate should be set to `rate = 1 - keep_prob`.\n"
     ]
    }
   ],
   "source": [
    "model = gru_model(input_shape = (Tx, n_freq))"
   ]
  },
  {
   "cell_type": "code",
   "execution_count": 12,
   "metadata": {},
   "outputs": [
    {
     "name": "stdout",
     "output_type": "stream",
     "text": [
      "_________________________________________________________________\n",
      "Layer (type)                 Output Shape              Param #   \n",
      "=================================================================\n",
      "input_1 (InputLayer)         (None, 2754, 101)         0         \n",
      "_________________________________________________________________\n",
      "conv1d_1 (Conv1D)            (None, 685, 196)          297136    \n",
      "_________________________________________________________________\n",
      "batch_normalization_1 (Batch (None, 685, 196)          784       \n",
      "_________________________________________________________________\n",
      "activation_1 (Activation)    (None, 685, 196)          0         \n",
      "_________________________________________________________________\n",
      "dropout_1 (Dropout)          (None, 685, 196)          0         \n",
      "_________________________________________________________________\n",
      "gru_1 (GRU)                  (None, 685, 128)          124800    \n",
      "_________________________________________________________________\n",
      "dropout_2 (Dropout)          (None, 685, 128)          0         \n",
      "_________________________________________________________________\n",
      "batch_normalization_2 (Batch (None, 685, 128)          512       \n",
      "_________________________________________________________________\n",
      "gru_2 (GRU)                  (None, 685, 128)          98688     \n",
      "_________________________________________________________________\n",
      "dropout_3 (Dropout)          (None, 685, 128)          0         \n",
      "_________________________________________________________________\n",
      "batch_normalization_3 (Batch (None, 685, 128)          512       \n",
      "_________________________________________________________________\n",
      "dropout_4 (Dropout)          (None, 685, 128)          0         \n",
      "_________________________________________________________________\n",
      "time_distributed_1 (TimeDist (None, 685, 1)            129       \n",
      "_________________________________________________________________\n",
      "reshape_1 (Reshape)          (None, 685)               0         \n",
      "_________________________________________________________________\n",
      "dense_2 (Dense)              (None, 3)                 2058      \n",
      "=================================================================\n",
      "Total params: 524,619\n",
      "Trainable params: 523,715\n",
      "Non-trainable params: 904\n",
      "_________________________________________________________________\n"
     ]
    }
   ],
   "source": [
    "model.summary()"
   ]
  },
  {
   "cell_type": "code",
   "execution_count": 13,
   "metadata": {},
   "outputs": [],
   "source": [
    "import keras"
   ]
  },
  {
   "cell_type": "code",
   "execution_count": 16,
   "metadata": {},
   "outputs": [],
   "source": [
    "import tensorflow as tf"
   ]
  },
  {
   "cell_type": "code",
   "execution_count": 19,
   "metadata": {},
   "outputs": [],
   "source": [
    "def custom_loss_w_label_smoothing(y_true, y_pred):\n",
    "    return tf.keras.losses.categorical_crossentropy(y_true, y_pred, label_smoothing=0.2)"
   ]
  },
  {
   "cell_type": "code",
   "execution_count": 20,
   "metadata": {},
   "outputs": [
    {
     "name": "stdout",
     "output_type": "stream",
     "text": [
      "version: 8093344\n",
      "WARNING:tensorflow:From c:\\users\\lukewolc\\appdata\\local\\programs\\python\\python37\\lib\\site-packages\\keras\\optimizers.py:790: The name tf.train.Optimizer is deprecated. Please use tf.compat.v1.train.Optimizer instead.\n",
      "\n"
     ]
    }
   ],
   "source": [
    "version = '{}'.format(int(time()%1e7))\n",
    "tb_path = 'tensorboard_logs/{}'.format(version)\n",
    "tensorboard = TensorBoard(log_dir=tb_path, histogram_freq=1)\n",
    "print('version: {}'.format(version))\n",
    "\n",
    "#opt = Adam(lr=0.0001, beta_1=0.9, beta_2=0.999, decay=0.01)\n",
    "model.compile(loss=custom_loss_w_label_smoothing, optimizer='adam', metrics=[\"accuracy\"])"
   ]
  },
  {
   "cell_type": "code",
   "execution_count": 21,
   "metadata": {
    "scrolled": true
   },
   "outputs": [
    {
     "name": "stdout",
     "output_type": "stream",
     "text": [
      "WARNING:tensorflow:From c:\\users\\lukewolc\\appdata\\local\\programs\\python\\python37\\lib\\site-packages\\tensorflow_core\\python\\ops\\math_grad.py:1424: where (from tensorflow.python.ops.array_ops) is deprecated and will be removed in a future version.\n",
      "Instructions for updating:\n",
      "Use tf.where in 2.0, which has the same broadcast rule as np.where\n",
      "WARNING:tensorflow:From c:\\users\\lukewolc\\appdata\\local\\programs\\python\\python37\\lib\\site-packages\\keras\\backend\\tensorflow_backend.py:986: The name tf.assign_add is deprecated. Please use tf.compat.v1.assign_add instead.\n",
      "\n",
      "WARNING:tensorflow:From c:\\users\\lukewolc\\appdata\\local\\programs\\python\\python37\\lib\\site-packages\\keras\\backend\\tensorflow_backend.py:973: The name tf.assign is deprecated. Please use tf.compat.v1.assign instead.\n",
      "\n",
      "WARNING:tensorflow:From c:\\users\\lukewolc\\appdata\\local\\programs\\python\\python37\\lib\\site-packages\\keras\\backend\\tensorflow_backend.py:2741: The name tf.Session is deprecated. Please use tf.compat.v1.Session instead.\n",
      "\n",
      "Train on 8000 samples, validate on 400 samples\n",
      "WARNING:tensorflow:From c:\\users\\lukewolc\\appdata\\local\\programs\\python\\python37\\lib\\site-packages\\keras\\backend\\tensorflow_backend.py:174: The name tf.get_default_session is deprecated. Please use tf.compat.v1.get_default_session instead.\n",
      "\n",
      "WARNING:tensorflow:From c:\\users\\lukewolc\\appdata\\local\\programs\\python\\python37\\lib\\site-packages\\keras\\backend\\tensorflow_backend.py:181: The name tf.ConfigProto is deprecated. Please use tf.compat.v1.ConfigProto instead.\n",
      "\n",
      "WARNING:tensorflow:From c:\\users\\lukewolc\\appdata\\local\\programs\\python\\python37\\lib\\site-packages\\keras\\backend\\tensorflow_backend.py:190: The name tf.global_variables is deprecated. Please use tf.compat.v1.global_variables instead.\n",
      "\n",
      "WARNING:tensorflow:From c:\\users\\lukewolc\\appdata\\local\\programs\\python\\python37\\lib\\site-packages\\keras\\backend\\tensorflow_backend.py:199: The name tf.is_variable_initialized is deprecated. Please use tf.compat.v1.is_variable_initialized instead.\n",
      "\n",
      "WARNING:tensorflow:From c:\\users\\lukewolc\\appdata\\local\\programs\\python\\python37\\lib\\site-packages\\keras\\backend\\tensorflow_backend.py:206: The name tf.variables_initializer is deprecated. Please use tf.compat.v1.variables_initializer instead.\n",
      "\n",
      "WARNING:tensorflow:From c:\\users\\lukewolc\\appdata\\local\\programs\\python\\python37\\lib\\site-packages\\keras\\callbacks.py:848: The name tf.summary.histogram is deprecated. Please use tf.compat.v1.summary.histogram instead.\n",
      "\n",
      "WARNING:tensorflow:From c:\\users\\lukewolc\\appdata\\local\\programs\\python\\python37\\lib\\site-packages\\keras\\callbacks.py:850: The name tf.summary.merge_all is deprecated. Please use tf.compat.v1.summary.merge_all instead.\n",
      "\n",
      "WARNING:tensorflow:From c:\\users\\lukewolc\\appdata\\local\\programs\\python\\python37\\lib\\site-packages\\keras\\callbacks.py:853: The name tf.summary.FileWriter is deprecated. Please use tf.compat.v1.summary.FileWriter instead.\n",
      "\n",
      "Epoch 1/30\n",
      "8000/8000 [==============================] - 688s 86ms/step - loss: 1.1239 - acc: 0.5456 - val_loss: 0.9560 - val_acc: 0.5625\n",
      "WARNING:tensorflow:From c:\\users\\lukewolc\\appdata\\local\\programs\\python\\python37\\lib\\site-packages\\keras\\callbacks.py:995: The name tf.Summary is deprecated. Please use tf.compat.v1.Summary instead.\n",
      "\n",
      "Epoch 2/30\n",
      "8000/8000 [==============================] - 861s 108ms/step - loss: 0.9513 - acc: 0.5743 - val_loss: 1.1044 - val_acc: 0.2550\n",
      "Epoch 3/30\n",
      "8000/8000 [==============================] - 1071s 134ms/step - loss: 0.8990 - acc: 0.5907 - val_loss: 1.1089 - val_acc: 0.2525\n",
      "Epoch 4/30\n",
      "8000/8000 [==============================] - 933s 117ms/step - loss: 0.8750 - acc: 0.6118 - val_loss: 1.1012 - val_acc: 0.2975\n",
      "Epoch 5/30\n",
      "8000/8000 [==============================] - 1062s 133ms/step - loss: 0.7973 - acc: 0.7139 - val_loss: 1.0449 - val_acc: 0.3975\n",
      "Epoch 6/30\n",
      "8000/8000 [==============================] - 958s 120ms/step - loss: 0.7319 - acc: 0.7768 - val_loss: 1.1630 - val_acc: 0.2525\n",
      "Epoch 7/30\n",
      "8000/8000 [==============================] - 973s 122ms/step - loss: 0.7129 - acc: 0.7885 - val_loss: 1.1887 - val_acc: 0.2525\n",
      "Epoch 8/30\n",
      "8000/8000 [==============================] - 1165s 146ms/step - loss: 0.6948 - acc: 0.7936 - val_loss: 1.2134 - val_acc: 0.2500\n",
      "Epoch 9/30\n",
      "8000/8000 [==============================] - 1102s 138ms/step - loss: 0.6873 - acc: 0.7960 - val_loss: 1.1375 - val_acc: 0.2575\n",
      "Epoch 10/30\n",
      "8000/8000 [==============================] - 992s 124ms/step - loss: 0.6836 - acc: 0.8031 - val_loss: 1.4687 - val_acc: 0.2750\n",
      "Epoch 11/30\n",
      "8000/8000 [==============================] - 1121s 140ms/step - loss: 0.6779 - acc: 0.8265 - val_loss: 1.1887 - val_acc: 0.2625\n",
      "Epoch 12/30\n",
      "8000/8000 [==============================] - 1006s 126ms/step - loss: 0.6287 - acc: 0.9351 - val_loss: 1.3427 - val_acc: 0.2425\n",
      "Epoch 13/30\n",
      "8000/8000 [==============================] - 1225s 153ms/step - loss: 0.5886 - acc: 0.9599 - val_loss: 1.2377 - val_acc: 0.2525\n",
      "Epoch 14/30\n",
      "8000/8000 [==============================] - 1022s 128ms/step - loss: 0.5660 - acc: 0.9723 - val_loss: 1.1301 - val_acc: 0.5175\n",
      "Epoch 15/30\n",
      "8000/8000 [==============================] - 1172s 146ms/step - loss: 0.5464 - acc: 0.9852 - val_loss: 1.0375 - val_acc: 0.5750\n",
      "Epoch 16/30\n",
      "8000/8000 [==============================] - 1038s 130ms/step - loss: 0.5401 - acc: 0.9875 - val_loss: 1.3706 - val_acc: 0.4750\n",
      "Epoch 17/30\n",
      "8000/8000 [==============================] - 1179s 147ms/step - loss: 0.5283 - acc: 0.9909 - val_loss: 1.3207 - val_acc: 0.4750\n",
      "Epoch 18/30\n",
      "8000/8000 [==============================] - 1320s 165ms/step - loss: 0.5259 - acc: 0.9940 - val_loss: 1.3504 - val_acc: 0.4725\n",
      "Epoch 19/30\n",
      "8000/8000 [==============================] - 1042s 130ms/step - loss: 0.5235 - acc: 0.9936 - val_loss: 1.2741 - val_acc: 0.5000\n",
      "Epoch 20/30\n",
      "8000/8000 [==============================] - 1171s 146ms/step - loss: 0.5308 - acc: 0.9891 - val_loss: 1.2286 - val_acc: 0.4925\n",
      "Epoch 21/30\n",
      "8000/8000 [==============================] - 1046s 131ms/step - loss: 0.5201 - acc: 0.9940 - val_loss: 1.2101 - val_acc: 0.5100\n",
      "Epoch 22/30\n",
      "8000/8000 [==============================] - 1268s 159ms/step - loss: 0.5421 - acc: 0.9862 - val_loss: 0.9629 - val_acc: 0.5625\n",
      "Epoch 23/30\n",
      "8000/8000 [==============================] - 1046s 131ms/step - loss: 0.5187 - acc: 0.9945 - val_loss: 1.0753 - val_acc: 0.5275\n",
      "Epoch 24/30\n",
      "8000/8000 [==============================] - 1325s 166ms/step - loss: 0.5136 - acc: 0.9970 - val_loss: 1.0274 - val_acc: 0.5275\n",
      "Epoch 25/30\n",
      "8000/8000 [==============================] - 1351s 169ms/step - loss: 0.5173 - acc: 0.9942 - val_loss: 0.8490 - val_acc: 0.6250\n",
      "Epoch 26/30\n",
      "8000/8000 [==============================] - 1059s 132ms/step - loss: 0.5154 - acc: 0.9951 - val_loss: 0.7915 - val_acc: 0.6375\n",
      "Epoch 27/30\n",
      "8000/8000 [==============================] - 1315s 164ms/step - loss: 0.5132 - acc: 0.9970 - val_loss: 1.1952 - val_acc: 0.4975\n",
      "Epoch 28/30\n",
      "8000/8000 [==============================] - 1057s 132ms/step - loss: 0.5127 - acc: 0.9969 - val_loss: 0.8142 - val_acc: 0.6375\n",
      "Epoch 29/30\n",
      "8000/8000 [==============================] - 1329s 166ms/step - loss: 0.5098 - acc: 0.9978 - val_loss: 0.9629 - val_acc: 0.5700\n",
      "Epoch 30/30\n",
      "8000/8000 [==============================] - 1064s 133ms/step - loss: 0.5110 - acc: 0.9964 - val_loss: 1.1295 - val_acc: 0.5050\n"
     ]
    },
    {
     "data": {
      "text/plain": [
       "<keras.callbacks.History at 0x2a342630f88>"
      ]
     },
     "execution_count": 21,
     "metadata": {},
     "output_type": "execute_result"
    }
   ],
   "source": [
    "model.fit(X_training, y_training_oh, batch_size=128, epochs=30, shuffle=True,\n",
    "         validation_data = [X_val, y_val_oh], callbacks = [tensorboard])"
   ]
  },
  {
   "cell_type": "code",
   "execution_count": null,
   "metadata": {},
   "outputs": [],
   "source": []
  },
  {
   "cell_type": "code",
   "execution_count": 22,
   "metadata": {},
   "outputs": [],
   "source": [
    "# get predictions on validation set\n",
    "labels = y_val\n",
    "preds = model.predict(X_val)\n",
    "preds_text = [label_decoder_dict[v] for v in np.argmax(preds, axis=1)]"
   ]
  },
  {
   "cell_type": "code",
   "execution_count": 36,
   "metadata": {},
   "outputs": [],
   "source": [
    "# get predictions on training set\n",
    "labels = y_training[:200]\n",
    "preds = model.predict(X_training[:200])\n",
    "preds_text = [label_decoder_dict[v] for v in np.argmax(preds, axis=1)]"
   ]
  },
  {
   "cell_type": "code",
   "execution_count": 23,
   "metadata": {},
   "outputs": [],
   "source": [
    "results = pd.DataFrame({'labels':labels, 'preds':preds_text})"
   ]
  },
  {
   "cell_type": "code",
   "execution_count": 24,
   "metadata": {},
   "outputs": [
    {
     "data": {
      "text/html": [
       "<div>\n",
       "<style scoped>\n",
       "    .dataframe tbody tr th:only-of-type {\n",
       "        vertical-align: middle;\n",
       "    }\n",
       "\n",
       "    .dataframe tbody tr th {\n",
       "        vertical-align: top;\n",
       "    }\n",
       "\n",
       "    .dataframe thead th {\n",
       "        text-align: right;\n",
       "    }\n",
       "</style>\n",
       "<table border=\"1\" class=\"dataframe\">\n",
       "  <thead>\n",
       "    <tr style=\"text-align: right;\">\n",
       "      <th>preds</th>\n",
       "      <th>empty</th>\n",
       "      <th>enough</th>\n",
       "      <th>not_enough</th>\n",
       "    </tr>\n",
       "    <tr>\n",
       "      <th>labels</th>\n",
       "      <th></th>\n",
       "      <th></th>\n",
       "      <th></th>\n",
       "    </tr>\n",
       "  </thead>\n",
       "  <tbody>\n",
       "    <tr>\n",
       "      <th>empty</th>\n",
       "      <td>11</td>\n",
       "      <td>13</td>\n",
       "      <td>176</td>\n",
       "    </tr>\n",
       "    <tr>\n",
       "      <th>enough</th>\n",
       "      <td>0</td>\n",
       "      <td>99</td>\n",
       "      <td>1</td>\n",
       "    </tr>\n",
       "    <tr>\n",
       "      <th>not_enough</th>\n",
       "      <td>0</td>\n",
       "      <td>8</td>\n",
       "      <td>92</td>\n",
       "    </tr>\n",
       "  </tbody>\n",
       "</table>\n",
       "</div>"
      ],
      "text/plain": [
       "preds       empty  enough  not_enough\n",
       "labels                               \n",
       "empty          11      13         176\n",
       "enough          0      99           1\n",
       "not_enough      0       8          92"
      ]
     },
     "execution_count": 24,
     "metadata": {},
     "output_type": "execute_result"
    }
   ],
   "source": [
    "pd.crosstab(results['labels'], results['preds'])"
   ]
  },
  {
   "cell_type": "code",
   "execution_count": 25,
   "metadata": {},
   "outputs": [],
   "source": [
    "model.save('trained_models/{}.h5'.format(version))"
   ]
  },
  {
   "cell_type": "code",
   "execution_count": 26,
   "metadata": {},
   "outputs": [
    {
     "data": {
      "text/plain": [
       "'8093344'"
      ]
     },
     "execution_count": 26,
     "metadata": {},
     "output_type": "execute_result"
    }
   ],
   "source": [
    "version"
   ]
  },
  {
   "cell_type": "markdown",
   "metadata": {},
   "source": [
    "####  version notes\n",
    "\n",
    "- 1st: good data, 1000.  perfect on train and test but overfitting. randomizing where words appear in clip but only using a few dozen clips.\n",
    "- 2nd: good data, 4000. perfect on train and test but overfitting. same as above.\n",
    "\n",
    "add data augmentation.\n",
    "\n",
    "- `4055836`: train on 1000 using `gru_model2`, after (4x4) data augmentation on each of enoughs, not_enoughs, empty. high 90s, except for predicting some not_enoughs as enoughs.\n",
    "- `4058922`: train on 4000 using `gru_model2` for 2 epochs.  val set pulls from different folders of augmented clips (but same original 10 clips).\n",
    "\n",
    "add train/val split at original recorded_clip level.\n",
    "\n",
    "- `4106576`: train on 1000 using LSTM `model` for 20 epochs.  data clips were split into 8/10 for train and 2/10 for val, and then augmented 5x5 each, with ps sigma = 2.5/2 and ts sigma = 0.4/2.  was perfect on both train and val!\n",
    "- `4109505`: same as previous, but 5 epochs with 4000 training samples. also basically perfect on train and val.\n",
    "- `4192521`: 4000 samples with 50+ 'collected' backgrounds. 10 epochs. overfits around 8th.  predicts 'enough' too often but does pretty good with 'not enough'\n",
    "- `4206950`: 8000 samples like previous, but batch size = 128 instead of 64.\n",
    "\n",
    "switch to new 'enough' samples (k.), and add some more 'not enough' samples.\n",
    "\n",
    "- `4909928`: train on 1000 using LSTM `model` for 5 epochs, with new different 'enough' samples.  seemed to struggle so trying `gru_model`.\n",
    "- `4206950`: 1000 for 10 epochs using `gru_model`. does perfect on empty and enough, but thinks 92% of the not_enough's are empty.\n",
    "- `4913454`: 4000 for 5 epochs using `gru_model`. \n",
    "- `4943569`: same but for 20 epochs.  did almost perfect on train and val, but during runtime only predicts not_enough.  needs more noisy backgrounds, and maybe less epochs training so it generalizes better.\n",
    "\n",
    "record 720 more background clips.\n",
    "- `6782372`: 4000 for 10 epochs using `gru_model`. started to improve after 6 epochs so i'll retrain for 20 total. \n",
    "- `6788415`: 4000 for 20 epochs, didn't do much better.\n",
    "\n",
    "switch class mix from 333/333/334 to 200/200/600 (enough/not_enough/empty)\n",
    "\n",
    "- `6860093`: 8000 for 10 epochs with the new mix.  still `gru_model`. pretty bad so not saving for runtime testing.\n",
    "- `6880363`: 8000 for 100 epochs. 98% recall on 'empty', 100% on 'enough', and 94% on 'not_enough' on val set. no good during runtime.\n",
    "- `8093344`: 8000 for 30 epochs, but added custom loss with label_smoothing=0.2. does well on enough and not_enough, but horrible on empties (on val)."
   ]
  },
  {
   "cell_type": "code",
   "execution_count": null,
   "metadata": {},
   "outputs": [],
   "source": []
  },
  {
   "cell_type": "code",
   "execution_count": null,
   "metadata": {
    "collapsed": true
   },
   "outputs": [],
   "source": []
  }
 ],
 "metadata": {
  "kernelspec": {
   "display_name": "Python 3",
   "language": "python",
   "name": "python3"
  },
  "language_info": {
   "codemirror_mode": {
    "name": "ipython",
    "version": 3
   },
   "file_extension": ".py",
   "mimetype": "text/x-python",
   "name": "python",
   "nbconvert_exporter": "python",
   "pygments_lexer": "ipython3",
   "version": "3.7.4"
  }
 },
 "nbformat": 4,
 "nbformat_minor": 2
}
