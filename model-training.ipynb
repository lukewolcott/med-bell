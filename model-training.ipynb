{
 "cells": [
  {
   "cell_type": "code",
   "execution_count": 1,
   "metadata": {},
   "outputs": [
    {
     "name": "stderr",
     "output_type": "stream",
     "text": [
      "c:\\users\\lukewolc\\appdata\\local\\programs\\python\\python37\\lib\\site-packages\\pydub\\utils.py:165: RuntimeWarning: Couldn't find ffmpeg or avconv - defaulting to ffmpeg, but may not work\n",
      "  warn(\"Couldn't find ffmpeg or avconv - defaulting to ffmpeg, but may not work\", RuntimeWarning)\n",
      "Using TensorFlow backend.\n"
     ]
    }
   ],
   "source": [
    "import numpy as np\n",
    "import random\n",
    "import sys\n",
    "import io\n",
    "import os\n",
    "from mb_utils import *\n",
    "%matplotlib inline\n",
    "import pickle\n",
    "\n",
    "import pandas as pd"
   ]
  },
  {
   "cell_type": "code",
   "execution_count": 6,
   "metadata": {},
   "outputs": [],
   "source": [
    "from keras.callbacks import ModelCheckpoint, TensorBoard\n",
    "from keras.models import Model, load_model, Sequential\n",
    "from keras.layers import Dense, Activation, Dropout, Input, Masking, TimeDistributed, LSTM, Conv1D\n",
    "from keras.layers import GRU, Bidirectional, BatchNormalization, Reshape, Flatten\n",
    "from keras.optimizers import Adam\n",
    "from keras.utils import np_utils\n",
    "import keras.backend as K\n",
    "from time import time"
   ]
  },
  {
   "cell_type": "code",
   "execution_count": 3,
   "metadata": {},
   "outputs": [],
   "source": [
    "from importlib import reload\n",
    "import mb_utils"
   ]
  },
  {
   "cell_type": "code",
   "execution_count": 4,
   "metadata": {},
   "outputs": [],
   "source": [
    "reload(mb_utils)\n",
    "from mb_utils import *"
   ]
  },
  {
   "cell_type": "code",
   "execution_count": 5,
   "metadata": {},
   "outputs": [],
   "source": [
    "Tx = 2754 #5511 # The number of time steps input to the model from the spectrogram\n",
    "n_freq = 101 # Number of frequencies input to the model at each time step of the spectrogram\n",
    "Ty = 1375 # The number of time steps in the output of our model"
   ]
  },
  {
   "cell_type": "markdown",
   "metadata": {
    "collapsed": true
   },
   "source": [
    "# model training"
   ]
  },
  {
   "cell_type": "code",
   "execution_count": 7,
   "metadata": {},
   "outputs": [
    {
     "name": "stdout",
     "output_type": "stream",
     "text": [
      "Size of X_training: (1000, 2754, 101)\n",
      "Size of X_val: (200, 2754, 101)\n"
     ]
    }
   ],
   "source": [
    "# load training features and labels\n",
    "file = open('XY_train/X_1000_5sec_v0.pkl', 'rb')\n",
    "X_training = pickle.load(file)\n",
    "file.close()\n",
    "\n",
    "file = open('XY_train/y_1000_5sec_v0.pkl', 'rb')\n",
    "y_training = pickle.load(file)\n",
    "file.close()\n",
    "\n",
    "# load validation features and labels\n",
    "file = open('XY_val/X_200_5sec_50_50_100.pkl', 'rb')\n",
    "X_val = pickle.load(file)\n",
    "file.close()\n",
    "\n",
    "file = open('XY_val/y_200_5sec_50_50_100.pkl', 'rb')\n",
    "y_val = pickle.load(file)\n",
    "file.close()\n",
    "\n",
    "# one-hot encode labels\n",
    "y_training_oh = encode_and_oh_labels(y_training)\n",
    "y_val_oh = encode_and_oh_labels(y_val)\n",
    "\n",
    "print('Size of X_training: {}'.format(X_training.shape))\n",
    "print('Size of X_val: {}'.format(X_val.shape))"
   ]
  },
  {
   "cell_type": "code",
   "execution_count": null,
   "metadata": {},
   "outputs": [],
   "source": [
    "# load training features and labels for 4000 over 4 files\n",
    "\n",
    "#v0\n",
    "file = open('XY_train/X_1000_5sec_v0.pkl', 'rb')\n",
    "X_training_v0 = pickle.load(file)\n",
    "file.close()\n",
    "\n",
    "file = open('XY_train/y_1000_5sec_v0.pkl', 'rb')\n",
    "y_training_v0 = pickle.load(file)\n",
    "file.close()\n",
    "\n",
    "#v1\n",
    "file = open('XY_train/X_1000_5sec_v1.pkl', 'rb')\n",
    "X_training_v1 = pickle.load(file)\n",
    "file.close()\n",
    "\n",
    "file = open('XY_train/y_1000_5sec_v1.pkl', 'rb')\n",
    "y_training_v1 = pickle.load(file)\n",
    "file.close()\n",
    "\n",
    "#v2\n",
    "file = open('XY_train/X_1000_5sec_v2.pkl', 'rb')\n",
    "X_training_v2 = pickle.load(file)\n",
    "file.close()\n",
    "\n",
    "file = open('XY_train/y_1000_5sec_v2.pkl', 'rb')\n",
    "y_training_v2 = pickle.load(file)\n",
    "file.close()\n",
    "\n",
    "#v3\n",
    "file = open('XY_train/X_1000_5sec_v3.pkl', 'rb')\n",
    "X_training_v3 = pickle.load(file)\n",
    "file.close()\n",
    "\n",
    "file = open('XY_train/y_1000_5sec_v3.pkl', 'rb')\n",
    "y_training_v3 = pickle.load(file)\n",
    "file.close()\n",
    "\n",
    "X_training = np.concatenate([X_training_v0, X_training_v1, X_training_v2, X_training_v3])\n",
    "y_training = np.concatenate([y_training_v0, y_training_v1, y_training_v2, y_training_v3])\n",
    "\n",
    "del(X_training_v0)\n",
    "del(X_training_v1)\n",
    "del(X_training_v2)\n",
    "del(X_training_v3)\n",
    "\n",
    "# load validation features and labels\n",
    "file = open('XY_val/X_200_5sec_50_50_100.pkl', 'rb')\n",
    "X_val = pickle.load(file)\n",
    "file.close()\n",
    "\n",
    "file = open('XY_val/y_200_5sec_50_50_100.pkl', 'rb')\n",
    "y_val = pickle.load(file)\n",
    "file.close()\n",
    "\n",
    "# one-hot encode labels\n",
    "y_training_oh = encode_and_oh_labels(y_training)\n",
    "y_val_oh = encode_and_oh_labels(y_val)\n",
    "\n",
    "print('Size of X_training: {}'.format(X_training.shape))\n",
    "print('Size of X_val: {}'.format(X_val.shape))"
   ]
  },
  {
   "cell_type": "code",
   "execution_count": 8,
   "metadata": {},
   "outputs": [],
   "source": [
    "label_decoder_dict = {0:'empty', 1:'enough', 2:'not_enough'}"
   ]
  },
  {
   "cell_type": "code",
   "execution_count": 9,
   "metadata": {},
   "outputs": [],
   "source": [
    "# shuffle training data explicitly\n",
    "np.random.seed(134)\n",
    "perm = np.random.permutation(len(X_training))\n",
    "\n",
    "X_training = X_training[perm]\n",
    "y_training = y_training[perm]\n",
    "y_training_oh = y_training_oh[perm]"
   ]
  },
  {
   "cell_type": "code",
   "execution_count": 93,
   "metadata": {
    "collapsed": true
   },
   "outputs": [],
   "source": [
    "def model(input_shape):\n",
    "    X_input = Input(shape = input_shape)\n",
    "    \n",
    "    X = Conv1D(filters=196, kernel_size=15, strides=4)(X_input)\n",
    "    X = BatchNormalization()(X)\n",
    "    X = Activation('relu')(X)\n",
    "    #X = Dropout(0.0)(X)\n",
    "    \n",
    "    X = Bidirectional(LSTM(units=128))(X)\n",
    "    X = Dense(3, activation='softmax')(X)\n",
    "\n",
    "    model = Model(inputs = X_input, outputs = X)\n",
    "    \n",
    "    return model  "
   ]
  },
  {
   "cell_type": "code",
   "execution_count": 10,
   "metadata": {},
   "outputs": [],
   "source": [
    "def gru_model(input_shape):\n",
    "    X_input = Input(shape = input_shape)\n",
    "    \n",
    "    X = Conv1D(filters=196, kernel_size=15, strides=4)(X_input)\n",
    "    X = BatchNormalization()(X)\n",
    "    X = Activation('relu')(X)\n",
    "    X = Dropout(0.5)(X)\n",
    "\n",
    "    X = GRU(units=128, return_sequences = True)(X)\n",
    "    X = Dropout(0.5)(X)\n",
    "    X = BatchNormalization()(X)\n",
    "    \n",
    "    X = GRU(units=128, return_sequences = True)(X)\n",
    "    X = Dropout(0.5)(X)\n",
    "    X = BatchNormalization()(X)\n",
    "    X = Dropout(0.5)(X)\n",
    "    \n",
    "    X = TimeDistributed(Dense(1, activation='relu'))(X)\n",
    "    X = Reshape((685,))(X)\n",
    "    X = Dense(3, activation='softmax')(X)\n",
    "    \n",
    "    model = Model(inputs=X_input, outputs=X)\n",
    "    return model"
   ]
  },
  {
   "cell_type": "code",
   "execution_count": 22,
   "metadata": {},
   "outputs": [],
   "source": [
    "def gru_model2(input_shape):\n",
    "    X_input = Input(shape = input_shape)\n",
    "    \n",
    "    X = Conv1D(filters=196, kernel_size=15, strides=4)(X_input)\n",
    "    X = BatchNormalization()(X)\n",
    "    X = Activation('relu')(X)\n",
    "    X = Dropout(0.5)(X)\n",
    "\n",
    "    X = GRU(units=128, return_sequences = True)(X)\n",
    "    X = Dropout(0.5)(X)\n",
    "    X = BatchNormalization()(X)\n",
    "    \n",
    "    X = GRU(units=128, return_sequences = True)(X)\n",
    "    X = Dropout(0.5)(X)\n",
    "    X = BatchNormalization()(X)\n",
    "    X = Dropout(0.5)(X)\n",
    "    \n",
    "#    X = TimeDistributed(Dense(1, activation='relu'))(X)\n",
    "#    X = Reshape((685,))(X)\n",
    "    X = Flatten()(X)\n",
    "    X = Dense(3, activation='softmax')(X)\n",
    "    \n",
    "    model = Model(inputs=X_input, outputs=X)\n",
    "    return model"
   ]
  },
  {
   "cell_type": "code",
   "execution_count": 23,
   "metadata": {},
   "outputs": [],
   "source": [
    "K.clear_session()"
   ]
  },
  {
   "cell_type": "code",
   "execution_count": 24,
   "metadata": {},
   "outputs": [],
   "source": [
    "model = gru_model2(input_shape = (Tx, n_freq))"
   ]
  },
  {
   "cell_type": "code",
   "execution_count": 25,
   "metadata": {},
   "outputs": [
    {
     "name": "stdout",
     "output_type": "stream",
     "text": [
      "_________________________________________________________________\n",
      "Layer (type)                 Output Shape              Param #   \n",
      "=================================================================\n",
      "input_1 (InputLayer)         (None, 2754, 101)         0         \n",
      "_________________________________________________________________\n",
      "conv1d_1 (Conv1D)            (None, 685, 196)          297136    \n",
      "_________________________________________________________________\n",
      "batch_normalization_1 (Batch (None, 685, 196)          784       \n",
      "_________________________________________________________________\n",
      "activation_1 (Activation)    (None, 685, 196)          0         \n",
      "_________________________________________________________________\n",
      "dropout_1 (Dropout)          (None, 685, 196)          0         \n",
      "_________________________________________________________________\n",
      "gru_1 (GRU)                  (None, 685, 128)          124800    \n",
      "_________________________________________________________________\n",
      "dropout_2 (Dropout)          (None, 685, 128)          0         \n",
      "_________________________________________________________________\n",
      "batch_normalization_2 (Batch (None, 685, 128)          512       \n",
      "_________________________________________________________________\n",
      "gru_2 (GRU)                  (None, 685, 128)          98688     \n",
      "_________________________________________________________________\n",
      "dropout_3 (Dropout)          (None, 685, 128)          0         \n",
      "_________________________________________________________________\n",
      "batch_normalization_3 (Batch (None, 685, 128)          512       \n",
      "_________________________________________________________________\n",
      "dropout_4 (Dropout)          (None, 685, 128)          0         \n",
      "_________________________________________________________________\n",
      "flatten_1 (Flatten)          (None, 87680)             0         \n",
      "_________________________________________________________________\n",
      "dense_1 (Dense)              (None, 3)                 263043    \n",
      "=================================================================\n",
      "Total params: 785,475\n",
      "Trainable params: 784,571\n",
      "Non-trainable params: 904\n",
      "_________________________________________________________________\n"
     ]
    }
   ],
   "source": [
    "model.summary()"
   ]
  },
  {
   "cell_type": "code",
   "execution_count": 26,
   "metadata": {},
   "outputs": [
    {
     "name": "stdout",
     "output_type": "stream",
     "text": [
      "version: 4055836\n"
     ]
    }
   ],
   "source": [
    "version = '{}'.format(int(time()%1e7))\n",
    "tb_path = 'tensorboard_logs/{}'.format(version)\n",
    "tensorboard = TensorBoard(log_dir=tb_path, histogram_freq=1)\n",
    "print('version: {}'.format(version))\n",
    "\n",
    "#opt = Adam(lr=0.0001, beta_1=0.9, beta_2=0.999, decay=0.01)\n",
    "model.compile(loss='categorical_crossentropy', optimizer='adam', metrics=[\"accuracy\"])"
   ]
  },
  {
   "cell_type": "code",
   "execution_count": 27,
   "metadata": {
    "scrolled": true
   },
   "outputs": [
    {
     "name": "stdout",
     "output_type": "stream",
     "text": [
      "Train on 1000 samples, validate on 200 samples\n",
      "Epoch 1/10\n",
      "1000/1000 [==============================] - 44s 44ms/step - loss: 1.3114 - acc: 0.6730 - val_loss: 0.2660 - val_acc: 0.9050\n",
      "Epoch 2/10\n",
      "1000/1000 [==============================] - 42s 42ms/step - loss: 0.5201 - acc: 0.8940 - val_loss: 0.7793 - val_acc: 0.9200\n",
      "Epoch 3/10\n",
      "1000/1000 [==============================] - 42s 42ms/step - loss: 0.2958 - acc: 0.9460 - val_loss: 1.7733 - val_acc: 0.8150\n",
      "Epoch 4/10\n",
      "1000/1000 [==============================] - 42s 42ms/step - loss: 0.2149 - acc: 0.9670 - val_loss: 0.5398 - val_acc: 0.9500\n",
      "Epoch 5/10\n",
      "1000/1000 [==============================] - 42s 42ms/step - loss: 0.2514 - acc: 0.9660 - val_loss: 0.4498 - val_acc: 0.9450\n",
      "Epoch 6/10\n",
      "1000/1000 [==============================] - 43s 43ms/step - loss: 0.1219 - acc: 0.9760 - val_loss: 0.4986 - val_acc: 0.9450\n",
      "Epoch 7/10\n",
      "1000/1000 [==============================] - 42s 42ms/step - loss: 0.0435 - acc: 0.9910 - val_loss: 0.3022 - val_acc: 0.9750\n",
      "Epoch 8/10\n",
      "1000/1000 [==============================] - 43s 43ms/step - loss: 0.0417 - acc: 0.9950 - val_loss: 0.1562 - val_acc: 0.9750\n",
      "Epoch 9/10\n",
      "1000/1000 [==============================] - 43s 43ms/step - loss: 0.0654 - acc: 0.9910 - val_loss: 4.5692 - val_acc: 0.6900\n",
      "Epoch 10/10\n",
      "1000/1000 [==============================] - 43s 43ms/step - loss: 0.1097 - acc: 0.9850 - val_loss: 0.2591 - val_acc: 0.9700\n"
     ]
    },
    {
     "data": {
      "text/plain": [
       "<keras.callbacks.History at 0x1eb0ba44d48>"
      ]
     },
     "execution_count": 27,
     "metadata": {},
     "output_type": "execute_result"
    }
   ],
   "source": [
    "model.fit(X_training, y_training_oh, batch_size=32, epochs=10, shuffle=True,\n",
    "         validation_data = [X_val, y_val_oh], callbacks = [tensorboard])"
   ]
  },
  {
   "cell_type": "code",
   "execution_count": 34,
   "metadata": {},
   "outputs": [],
   "source": [
    "# get predictions on validation set\n",
    "labels = y_val\n",
    "preds = model.predict(X_val)\n",
    "preds_text = [label_decoder_dict[v] for v in np.argmax(preds, axis=1)]"
   ]
  },
  {
   "cell_type": "code",
   "execution_count": 31,
   "metadata": {},
   "outputs": [],
   "source": [
    "# get predictions on training set\n",
    "labels = y_training[:200]\n",
    "preds = model.predict(X_training[:200])\n",
    "preds_text = [label_decoder_dict[v] for v in np.argmax(preds, axis=1)]"
   ]
  },
  {
   "cell_type": "code",
   "execution_count": 35,
   "metadata": {},
   "outputs": [],
   "source": [
    "results = pd.DataFrame({'labels':labels, 'preds':preds_text})"
   ]
  },
  {
   "cell_type": "code",
   "execution_count": 36,
   "metadata": {},
   "outputs": [
    {
     "data": {
      "text/html": [
       "<div>\n",
       "<style scoped>\n",
       "    .dataframe tbody tr th:only-of-type {\n",
       "        vertical-align: middle;\n",
       "    }\n",
       "\n",
       "    .dataframe tbody tr th {\n",
       "        vertical-align: top;\n",
       "    }\n",
       "\n",
       "    .dataframe thead th {\n",
       "        text-align: right;\n",
       "    }\n",
       "</style>\n",
       "<table border=\"1\" class=\"dataframe\">\n",
       "  <thead>\n",
       "    <tr style=\"text-align: right;\">\n",
       "      <th>preds</th>\n",
       "      <th>empty</th>\n",
       "      <th>enough</th>\n",
       "      <th>not_enough</th>\n",
       "    </tr>\n",
       "    <tr>\n",
       "      <th>labels</th>\n",
       "      <th></th>\n",
       "      <th></th>\n",
       "      <th></th>\n",
       "    </tr>\n",
       "  </thead>\n",
       "  <tbody>\n",
       "    <tr>\n",
       "      <th>empty</th>\n",
       "      <td>100</td>\n",
       "      <td>0</td>\n",
       "      <td>0</td>\n",
       "    </tr>\n",
       "    <tr>\n",
       "      <th>enough</th>\n",
       "      <td>0</td>\n",
       "      <td>50</td>\n",
       "      <td>0</td>\n",
       "    </tr>\n",
       "    <tr>\n",
       "      <th>not_enough</th>\n",
       "      <td>0</td>\n",
       "      <td>6</td>\n",
       "      <td>44</td>\n",
       "    </tr>\n",
       "  </tbody>\n",
       "</table>\n",
       "</div>"
      ],
      "text/plain": [
       "preds       empty  enough  not_enough\n",
       "labels                               \n",
       "empty         100       0           0\n",
       "enough          0      50           0\n",
       "not_enough      0       6          44"
      ]
     },
     "execution_count": 36,
     "metadata": {},
     "output_type": "execute_result"
    }
   ],
   "source": [
    "pd.crosstab(results['labels'], results['preds'])"
   ]
  },
  {
   "cell_type": "code",
   "execution_count": 37,
   "metadata": {},
   "outputs": [],
   "source": [
    "model.save('trained_models/{}.h5'.format(version))"
   ]
  },
  {
   "cell_type": "code",
   "execution_count": 38,
   "metadata": {},
   "outputs": [
    {
     "data": {
      "text/plain": [
       "'4055836'"
      ]
     },
     "execution_count": 38,
     "metadata": {},
     "output_type": "execute_result"
    }
   ],
   "source": [
    "version"
   ]
  },
  {
   "cell_type": "markdown",
   "metadata": {},
   "source": [
    "####  version notes\n",
    "\n",
    "- 1st: good data, 1000.  perfect on train and test but overfitting. randomizing where words appear in clip but only using a few dozen clips.\n",
    "- 2nd: good data, 4000. perfect on train and test but overfitting. same as above.\n",
    "- `4055836`: train on 1000, after (4x4) data augmentation on each of enoughs, not_enoughs, empty. high 90s, except for predicting some not_enoughs as enoughs."
   ]
  },
  {
   "cell_type": "code",
   "execution_count": null,
   "metadata": {},
   "outputs": [],
   "source": []
  },
  {
   "cell_type": "code",
   "execution_count": null,
   "metadata": {
    "collapsed": true
   },
   "outputs": [],
   "source": []
  }
 ],
 "metadata": {
  "kernelspec": {
   "display_name": "Python 3",
   "language": "python",
   "name": "python3"
  },
  "language_info": {
   "codemirror_mode": {
    "name": "ipython",
    "version": 3
   },
   "file_extension": ".py",
   "mimetype": "text/x-python",
   "name": "python",
   "nbconvert_exporter": "python",
   "pygments_lexer": "ipython3",
   "version": "3.7.4"
  }
 },
 "nbformat": 4,
 "nbformat_minor": 2
}
