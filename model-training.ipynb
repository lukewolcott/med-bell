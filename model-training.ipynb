{
 "cells": [
  {
   "cell_type": "code",
   "execution_count": 1,
   "metadata": {},
   "outputs": [
    {
     "name": "stderr",
     "output_type": "stream",
     "text": [
      "c:\\users\\lukewolc\\appdata\\local\\programs\\python\\python37\\lib\\site-packages\\pydub\\utils.py:165: RuntimeWarning: Couldn't find ffmpeg or avconv - defaulting to ffmpeg, but may not work\n",
      "  warn(\"Couldn't find ffmpeg or avconv - defaulting to ffmpeg, but may not work\", RuntimeWarning)\n",
      "Using TensorFlow backend.\n"
     ]
    }
   ],
   "source": [
    "import numpy as np\n",
    "import random\n",
    "import sys\n",
    "import io\n",
    "import os\n",
    "from mb_utils import *\n",
    "%matplotlib inline\n",
    "import pickle\n",
    "\n",
    "import pandas as pd"
   ]
  },
  {
   "cell_type": "code",
   "execution_count": 2,
   "metadata": {},
   "outputs": [],
   "source": [
    "from keras.callbacks import ModelCheckpoint, TensorBoard\n",
    "from keras.models import Model, load_model, Sequential\n",
    "from keras.layers import Dense, Activation, Dropout, Input, Masking, TimeDistributed, LSTM, Conv1D\n",
    "from keras.layers import GRU, Bidirectional, BatchNormalization, Reshape\n",
    "from keras.optimizers import Adam\n",
    "from keras.utils import np_utils\n",
    "import keras.backend as K\n",
    "from time import time"
   ]
  },
  {
   "cell_type": "code",
   "execution_count": 3,
   "metadata": {},
   "outputs": [],
   "source": [
    "from importlib import reload\n",
    "import mb_utils"
   ]
  },
  {
   "cell_type": "code",
   "execution_count": 4,
   "metadata": {},
   "outputs": [],
   "source": [
    "reload(mb_utils)\n",
    "from mb_utils import *"
   ]
  },
  {
   "cell_type": "code",
   "execution_count": 5,
   "metadata": {},
   "outputs": [],
   "source": [
    "Tx = 2754 #5511 # The number of time steps input to the model from the spectrogram\n",
    "n_freq = 101 # Number of frequencies input to the model at each time step of the spectrogram\n",
    "Ty = 1375 # The number of time steps in the output of our model"
   ]
  },
  {
   "cell_type": "markdown",
   "metadata": {
    "collapsed": true
   },
   "source": [
    "# model training"
   ]
  },
  {
   "cell_type": "code",
   "execution_count": 30,
   "metadata": {},
   "outputs": [],
   "source": [
    "from keras.layers import Flatten"
   ]
  },
  {
   "cell_type": "code",
   "execution_count": 6,
   "metadata": {},
   "outputs": [
    {
     "name": "stdout",
     "output_type": "stream",
     "text": [
      "Size of X_training: (1000, 2754, 101)\n",
      "Size of X_val: (100, 2754, 101)\n"
     ]
    }
   ],
   "source": [
    "# load training features and labels\n",
    "file = open('XY_train/X_1000_5sec_v0.pkl', 'rb')\n",
    "X_training = pickle.load(file)\n",
    "file.close()\n",
    "\n",
    "file = open('XY_train/y_1000_5sec_v0.pkl', 'rb')\n",
    "y_training = pickle.load(file)\n",
    "file.close()\n",
    "\n",
    "# load validation features and labels\n",
    "file = open('XY_val/X_100_5sec_33_33_34.pkl', 'rb')\n",
    "X_val = pickle.load(file)\n",
    "file.close()\n",
    "\n",
    "file = open('XY_val/y_100_5sec_33_33_34.pkl', 'rb')\n",
    "y_val = pickle.load(file)\n",
    "file.close()\n",
    "\n",
    "# one-hot encode labels\n",
    "y_training_oh = encode_and_oh_labels(y_training)\n",
    "y_val_oh = encode_and_oh_labels(y_val)\n",
    "\n",
    "print('Size of X_training: {}'.format(X_training.shape))\n",
    "print('Size of X_val: {}'.format(X_val.shape))"
   ]
  },
  {
   "cell_type": "code",
   "execution_count": null,
   "metadata": {},
   "outputs": [],
   "source": [
    "# load training features and labels for 4000 over 4 files\n",
    "\n",
    "#v0\n",
    "file = open('XY_train/X_1000_5sec_v0.pkl', 'rb')\n",
    "X_training_v0 = pickle.load(file)\n",
    "file.close()\n",
    "\n",
    "file = open('XY_train/y_1000_5sec_v0.pkl', 'rb')\n",
    "y_training_v0 = pickle.load(file)\n",
    "file.close()\n",
    "\n",
    "#v1\n",
    "file = open('XY_train/X_1000_5sec_v1.pkl', 'rb')\n",
    "X_training_v1 = pickle.load(file)\n",
    "file.close()\n",
    "\n",
    "file = open('XY_train/y_1000_5sec_v1.pkl', 'rb')\n",
    "y_training_v1 = pickle.load(file)\n",
    "file.close()\n",
    "\n",
    "#v2\n",
    "file = open('XY_train/X_1000_5sec_v2.pkl', 'rb')\n",
    "X_training_v2 = pickle.load(file)\n",
    "file.close()\n",
    "\n",
    "file = open('XY_train/y_1000_5sec_v2.pkl', 'rb')\n",
    "y_training_v2 = pickle.load(file)\n",
    "file.close()\n",
    "\n",
    "#v3\n",
    "file = open('XY_train/X_1000_5sec_v3.pkl', 'rb')\n",
    "X_training_v3 = pickle.load(file)\n",
    "file.close()\n",
    "\n",
    "file = open('XY_train/y_1000_5sec_v3.pkl', 'rb')\n",
    "y_training_v3 = pickle.load(file)\n",
    "file.close()\n",
    "\n",
    "X_training = np.concatenate([X_training_v0, X_training_v1, X_training_v2, X_training_v3])\n",
    "y_training = np.concatenate([y_training_v0, y_training_v1, y_training_v2, y_training_v3])\n",
    "\n",
    "del(X_training_v0)\n",
    "del(X_training_v1)\n",
    "del(X_training_v2)\n",
    "del(X_training_v3)\n",
    "\n",
    "# load validation features and labels\n",
    "file = open('XY_val/X_200_5sec_50_50_100.pkl', 'rb')\n",
    "X_val = pickle.load(file)\n",
    "file.close()\n",
    "\n",
    "file = open('XY_val/y_200_5sec_50_50_100.pkl', 'rb')\n",
    "y_val = pickle.load(file)\n",
    "file.close()\n",
    "\n",
    "# one-hot encode labels\n",
    "y_training_oh = encode_and_oh_labels(y_training)\n",
    "y_val_oh = encode_and_oh_labels(y_val)\n",
    "\n",
    "print('Size of X_training: {}'.format(X_training.shape))\n",
    "print('Size of X_val: {}'.format(X_val.shape))"
   ]
  },
  {
   "cell_type": "code",
   "execution_count": 7,
   "metadata": {},
   "outputs": [],
   "source": [
    "label_decoder_dict = {0:'empty', 1:'enough', 2:'not_enough'}"
   ]
  },
  {
   "cell_type": "code",
   "execution_count": 8,
   "metadata": {},
   "outputs": [],
   "source": [
    "# shuffle training data explicitly\n",
    "np.random.seed(134)\n",
    "perm = np.random.permutation(len(X_training))\n",
    "\n",
    "X_training = X_training[perm]\n",
    "y_training = y_training[perm]\n",
    "y_training_oh = y_training_oh[perm]"
   ]
  },
  {
   "cell_type": "code",
   "execution_count": 93,
   "metadata": {
    "collapsed": true
   },
   "outputs": [],
   "source": [
    "def model(input_shape):\n",
    "    X_input = Input(shape = input_shape)\n",
    "    \n",
    "    X = Conv1D(filters=196, kernel_size=15, strides=4)(X_input)\n",
    "    X = BatchNormalization()(X)\n",
    "    X = Activation('relu')(X)\n",
    "    #X = Dropout(0.0)(X)\n",
    "    \n",
    "    X = Bidirectional(LSTM(units=128))(X)\n",
    "    X = Dense(3, activation='softmax')(X)\n",
    "\n",
    "    model = Model(inputs = X_input, outputs = X)\n",
    "    \n",
    "    return model  "
   ]
  },
  {
   "cell_type": "code",
   "execution_count": 31,
   "metadata": {},
   "outputs": [],
   "source": [
    "def gru_model(input_shape):\n",
    "    X_input = Input(shape = input_shape)\n",
    "    \n",
    "    X = Conv1D(filters=196, kernel_size=15, strides=4)(X_input)\n",
    "    X = BatchNormalization()(X)\n",
    "    X = Activation('relu')(X)\n",
    "    X = Dropout(0.5)(X)\n",
    "\n",
    "    X = GRU(units=128, return_sequences = True)(X)\n",
    "    X = Dropout(0.5)(X)\n",
    "    X = BatchNormalization()(X)\n",
    "    \n",
    "    X = GRU(units=128, return_sequences = True)(X)\n",
    "    X = Dropout(0.5)(X)\n",
    "    X = BatchNormalization()(X)\n",
    "    X = Dropout(0.5)(X)\n",
    "    \n",
    "    X = TimeDistributed(Dense(1, activation='relu'))(X)\n",
    "    X = Reshape((685,))(X)\n",
    "    X = Dense(3, activation='softmax')(X)\n",
    "    \n",
    "    model = Model(inputs=X_input, outputs=X)\n",
    "    return model"
   ]
  },
  {
   "cell_type": "code",
   "execution_count": 39,
   "metadata": {},
   "outputs": [],
   "source": [
    "def gru_model2(input_shape):\n",
    "    X_input = Input(shape = input_shape)\n",
    "    \n",
    "    X = Conv1D(filters=196, kernel_size=15, strides=4)(X_input)\n",
    "    X = BatchNormalization()(X)\n",
    "    X = Activation('relu')(X)\n",
    "    X = Dropout(0.5)(X)\n",
    "\n",
    "    X = GRU(units=128, return_sequences = True)(X)\n",
    "    X = Dropout(0.5)(X)\n",
    "    X = BatchNormalization()(X)\n",
    "    \n",
    "    X = GRU(units=128, return_sequences = True)(X)\n",
    "    X = Dropout(0.5)(X)\n",
    "    X = BatchNormalization()(X)\n",
    "    X = Dropout(0.5)(X)\n",
    "    \n",
    "#    X = TimeDistributed(Dense(1, activation='relu'))(X)\n",
    "#    X = Reshape((685,))(X)\n",
    "    X = Flatten()(X)\n",
    "    X = Dense(3, activation='softmax')(X)\n",
    "    \n",
    "    model = Model(inputs=X_input, outputs=X)\n",
    "    return model"
   ]
  },
  {
   "cell_type": "code",
   "execution_count": 40,
   "metadata": {},
   "outputs": [],
   "source": [
    "K.clear_session()"
   ]
  },
  {
   "cell_type": "code",
   "execution_count": 41,
   "metadata": {},
   "outputs": [],
   "source": [
    "model = gru_model2(input_shape = (Tx, n_freq))"
   ]
  },
  {
   "cell_type": "code",
   "execution_count": 42,
   "metadata": {},
   "outputs": [
    {
     "name": "stdout",
     "output_type": "stream",
     "text": [
      "_________________________________________________________________\n",
      "Layer (type)                 Output Shape              Param #   \n",
      "=================================================================\n",
      "input_1 (InputLayer)         (None, 2754, 101)         0         \n",
      "_________________________________________________________________\n",
      "conv1d_1 (Conv1D)            (None, 685, 196)          297136    \n",
      "_________________________________________________________________\n",
      "batch_normalization_1 (Batch (None, 685, 196)          784       \n",
      "_________________________________________________________________\n",
      "activation_1 (Activation)    (None, 685, 196)          0         \n",
      "_________________________________________________________________\n",
      "dropout_1 (Dropout)          (None, 685, 196)          0         \n",
      "_________________________________________________________________\n",
      "gru_1 (GRU)                  (None, 685, 128)          124800    \n",
      "_________________________________________________________________\n",
      "dropout_2 (Dropout)          (None, 685, 128)          0         \n",
      "_________________________________________________________________\n",
      "batch_normalization_2 (Batch (None, 685, 128)          512       \n",
      "_________________________________________________________________\n",
      "gru_2 (GRU)                  (None, 685, 128)          98688     \n",
      "_________________________________________________________________\n",
      "dropout_3 (Dropout)          (None, 685, 128)          0         \n",
      "_________________________________________________________________\n",
      "batch_normalization_3 (Batch (None, 685, 128)          512       \n",
      "_________________________________________________________________\n",
      "dropout_4 (Dropout)          (None, 685, 128)          0         \n",
      "_________________________________________________________________\n",
      "flatten_1 (Flatten)          (None, 87680)             0         \n",
      "_________________________________________________________________\n",
      "dense_1 (Dense)              (None, 3)                 263043    \n",
      "=================================================================\n",
      "Total params: 785,475\n",
      "Trainable params: 784,571\n",
      "Non-trainable params: 904\n",
      "_________________________________________________________________\n"
     ]
    }
   ],
   "source": [
    "model.summary()"
   ]
  },
  {
   "cell_type": "code",
   "execution_count": 43,
   "metadata": {},
   "outputs": [
    {
     "name": "stdout",
     "output_type": "stream",
     "text": [
      "version: 4039064\n"
     ]
    }
   ],
   "source": [
    "version = '{}'.format(int(time()%1e7))\n",
    "tb_path = 'tensorboard_logs/{}'.format(version)\n",
    "tensorboard = TensorBoard(log_dir=tb_path, histogram_freq=1)\n",
    "print('version: {}'.format(version))\n",
    "\n",
    "#opt = Adam(lr=0.0001, beta_1=0.9, beta_2=0.999, decay=0.01)\n",
    "model.compile(loss='categorical_crossentropy', optimizer='adam', metrics=[\"accuracy\"])"
   ]
  },
  {
   "cell_type": "code",
   "execution_count": 44,
   "metadata": {
    "scrolled": true
   },
   "outputs": [
    {
     "name": "stdout",
     "output_type": "stream",
     "text": [
      "Train on 1000 samples, validate on 100 samples\n",
      "Epoch 1/20\n",
      "1000/1000 [==============================] - 42s 42ms/step - loss: 1.9257 - acc: 0.6210 - val_loss: 3.4026 - val_acc: 0.6900\n",
      "Epoch 2/20\n",
      "1000/1000 [==============================] - 41s 41ms/step - loss: 1.5844 - acc: 0.7470 - val_loss: 5.3015 - val_acc: 0.6200\n",
      "Epoch 3/20\n",
      "1000/1000 [==============================] - 41s 41ms/step - loss: 0.9638 - acc: 0.8580 - val_loss: 2.6332 - val_acc: 0.7200\n",
      "Epoch 4/20\n",
      "1000/1000 [==============================] - 42s 42ms/step - loss: 0.4669 - acc: 0.9310 - val_loss: 2.2262 - val_acc: 0.8100\n",
      "Epoch 5/20\n",
      "1000/1000 [==============================] - 42s 42ms/step - loss: 1.1217 - acc: 0.9060 - val_loss: 2.5860 - val_acc: 0.8400\n",
      "Epoch 6/20\n",
      "1000/1000 [==============================] - 42s 42ms/step - loss: 0.5369 - acc: 0.9370 - val_loss: 2.3481 - val_acc: 0.8500\n",
      "Epoch 7/20\n",
      "1000/1000 [==============================] - 42s 42ms/step - loss: 0.2341 - acc: 0.9700 - val_loss: 2.1951 - val_acc: 0.8500\n",
      "Epoch 8/20\n",
      "1000/1000 [==============================] - 42s 42ms/step - loss: 0.2925 - acc: 0.9670 - val_loss: 2.4187 - val_acc: 0.8500\n",
      "Epoch 9/20\n",
      "1000/1000 [==============================] - 42s 42ms/step - loss: 0.3764 - acc: 0.9610 - val_loss: 2.1116 - val_acc: 0.8500\n",
      "Epoch 10/20\n",
      "1000/1000 [==============================] - 42s 42ms/step - loss: 0.1692 - acc: 0.9810 - val_loss: 2.0266 - val_acc: 0.8500\n",
      "Epoch 11/20\n",
      "1000/1000 [==============================] - 42s 42ms/step - loss: 0.2851 - acc: 0.9660 - val_loss: 2.2038 - val_acc: 0.8500\n",
      "Epoch 12/20\n",
      "1000/1000 [==============================] - 42s 42ms/step - loss: 0.3919 - acc: 0.9630 - val_loss: 2.1584 - val_acc: 0.8500\n",
      "Epoch 13/20\n",
      "1000/1000 [==============================] - 42s 42ms/step - loss: 0.1450 - acc: 0.9860 - val_loss: 2.0704 - val_acc: 0.8700\n",
      "Epoch 14/20\n",
      "1000/1000 [==============================] - 42s 42ms/step - loss: 0.2718 - acc: 0.9740 - val_loss: 2.0619 - val_acc: 0.8600\n",
      "Epoch 15/20\n",
      "1000/1000 [==============================] - 42s 42ms/step - loss: 0.2344 - acc: 0.9740 - val_loss: 2.1442 - val_acc: 0.8500\n",
      "Epoch 16/20\n",
      "1000/1000 [==============================] - 42s 42ms/step - loss: 0.1124 - acc: 0.9840 - val_loss: 2.4647 - val_acc: 0.8100\n",
      "Epoch 17/20\n",
      "1000/1000 [==============================] - 42s 42ms/step - loss: 0.1473 - acc: 0.9830 - val_loss: 2.0036 - val_acc: 0.8700\n",
      "Epoch 18/20\n",
      "1000/1000 [==============================] - 42s 42ms/step - loss: 0.2601 - acc: 0.9750 - val_loss: 2.4256 - val_acc: 0.8400\n",
      "Epoch 19/20\n",
      "1000/1000 [==============================] - 42s 42ms/step - loss: 0.1568 - acc: 0.9820 - val_loss: 1.7176 - val_acc: 0.8700\n",
      "Epoch 20/20\n",
      "1000/1000 [==============================] - 42s 42ms/step - loss: 0.2286 - acc: 0.9790 - val_loss: 1.8814 - val_acc: 0.8700\n"
     ]
    },
    {
     "data": {
      "text/plain": [
       "<keras.callbacks.History at 0x120f4a85d08>"
      ]
     },
     "execution_count": 44,
     "metadata": {},
     "output_type": "execute_result"
    }
   ],
   "source": [
    "model.fit(X_training, y_training_oh, batch_size=32, epochs=20, shuffle=True,\n",
    "         validation_data = [X_val, y_val_oh], callbacks = [tensorboard])"
   ]
  },
  {
   "cell_type": "code",
   "execution_count": 54,
   "metadata": {},
   "outputs": [],
   "source": [
    "# get predictions on validation set\n",
    "labels = y_val\n",
    "preds = model.predict(X_val)\n",
    "preds_text = [label_decoder_dict[v] for v in np.argmax(preds, axis=1)]"
   ]
  },
  {
   "cell_type": "code",
   "execution_count": 48,
   "metadata": {},
   "outputs": [],
   "source": [
    "# get predictions on training set\n",
    "labels = y_training[:200]\n",
    "preds = model.predict(X_training[:200])\n",
    "preds_text = [label_decoder_dict[v] for v in np.argmax(preds, axis=1)]"
   ]
  },
  {
   "cell_type": "code",
   "execution_count": 55,
   "metadata": {},
   "outputs": [],
   "source": [
    "results = pd.DataFrame({'labels':labels, 'preds':preds_text})"
   ]
  },
  {
   "cell_type": "code",
   "execution_count": 56,
   "metadata": {},
   "outputs": [
    {
     "data": {
      "text/html": [
       "<div>\n",
       "<style scoped>\n",
       "    .dataframe tbody tr th:only-of-type {\n",
       "        vertical-align: middle;\n",
       "    }\n",
       "\n",
       "    .dataframe tbody tr th {\n",
       "        vertical-align: top;\n",
       "    }\n",
       "\n",
       "    .dataframe thead th {\n",
       "        text-align: right;\n",
       "    }\n",
       "</style>\n",
       "<table border=\"1\" class=\"dataframe\">\n",
       "  <thead>\n",
       "    <tr style=\"text-align: right;\">\n",
       "      <th>preds</th>\n",
       "      <th>empty</th>\n",
       "      <th>enough</th>\n",
       "      <th>not_enough</th>\n",
       "    </tr>\n",
       "    <tr>\n",
       "      <th>labels</th>\n",
       "      <th></th>\n",
       "      <th></th>\n",
       "      <th></th>\n",
       "    </tr>\n",
       "  </thead>\n",
       "  <tbody>\n",
       "    <tr>\n",
       "      <th>empty</th>\n",
       "      <td>33</td>\n",
       "      <td>0</td>\n",
       "      <td>1</td>\n",
       "    </tr>\n",
       "    <tr>\n",
       "      <th>enough</th>\n",
       "      <td>4</td>\n",
       "      <td>29</td>\n",
       "      <td>0</td>\n",
       "    </tr>\n",
       "    <tr>\n",
       "      <th>not_enough</th>\n",
       "      <td>8</td>\n",
       "      <td>0</td>\n",
       "      <td>25</td>\n",
       "    </tr>\n",
       "  </tbody>\n",
       "</table>\n",
       "</div>"
      ],
      "text/plain": [
       "preds       empty  enough  not_enough\n",
       "labels                               \n",
       "empty          33       0           1\n",
       "enough          4      29           0\n",
       "not_enough      8       0          25"
      ]
     },
     "execution_count": 56,
     "metadata": {},
     "output_type": "execute_result"
    }
   ],
   "source": [
    "pd.crosstab(results['labels'], results['preds'])"
   ]
  },
  {
   "cell_type": "code",
   "execution_count": null,
   "metadata": {},
   "outputs": [],
   "source": [
    "model.save('trained_models/{}.h5'.format(version))"
   ]
  },
  {
   "cell_type": "code",
   "execution_count": null,
   "metadata": {},
   "outputs": [],
   "source": [
    "version"
   ]
  },
  {
   "cell_type": "markdown",
   "metadata": {},
   "source": [
    "####  version notes\n",
    "\n",
    "- 1st: from earlier, bad data\n",
    "- 2nd: good data, 1000.  perfect.\n",
    "- 3rd: good data, 4000. perfect."
   ]
  },
  {
   "cell_type": "code",
   "execution_count": null,
   "metadata": {},
   "outputs": [],
   "source": []
  },
  {
   "cell_type": "code",
   "execution_count": null,
   "metadata": {
    "collapsed": true
   },
   "outputs": [],
   "source": []
  }
 ],
 "metadata": {
  "kernelspec": {
   "display_name": "Python 3",
   "language": "python",
   "name": "python3"
  },
  "language_info": {
   "codemirror_mode": {
    "name": "ipython",
    "version": 3
   },
   "file_extension": ".py",
   "mimetype": "text/x-python",
   "name": "python",
   "nbconvert_exporter": "python",
   "pygments_lexer": "ipython3",
   "version": "3.7.4"
  }
 },
 "nbformat": 4,
 "nbformat_minor": 2
}
