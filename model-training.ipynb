{
 "cells": [
  {
   "cell_type": "code",
   "execution_count": 1,
   "metadata": {},
   "outputs": [
    {
     "name": "stderr",
     "output_type": "stream",
     "text": [
      "c:\\users\\lukewolc\\appdata\\local\\programs\\python\\python37\\lib\\site-packages\\pydub\\utils.py:165: RuntimeWarning: Couldn't find ffmpeg or avconv - defaulting to ffmpeg, but may not work\n",
      "  warn(\"Couldn't find ffmpeg or avconv - defaulting to ffmpeg, but may not work\", RuntimeWarning)\n",
      "Using TensorFlow backend.\n"
     ]
    }
   ],
   "source": [
    "import numpy as np\n",
    "import random\n",
    "import sys\n",
    "import io\n",
    "import os\n",
    "from mb_utils import *\n",
    "%matplotlib inline\n",
    "import pickle\n",
    "\n",
    "import pandas as pd"
   ]
  },
  {
   "cell_type": "code",
   "execution_count": 2,
   "metadata": {},
   "outputs": [],
   "source": [
    "from keras.callbacks import ModelCheckpoint, TensorBoard\n",
    "from keras.models import Model, load_model, Sequential\n",
    "from keras.layers import Dense, Activation, Dropout, Input, Masking, TimeDistributed, LSTM, Conv1D\n",
    "from keras.layers import GRU, Bidirectional, BatchNormalization, Reshape, Flatten\n",
    "from keras.optimizers import Adam\n",
    "from keras.utils import np_utils\n",
    "import keras.backend as K\n",
    "from time import time"
   ]
  },
  {
   "cell_type": "code",
   "execution_count": 3,
   "metadata": {},
   "outputs": [],
   "source": [
    "from importlib import reload\n",
    "import mb_utils"
   ]
  },
  {
   "cell_type": "code",
   "execution_count": 4,
   "metadata": {},
   "outputs": [],
   "source": [
    "reload(mb_utils)\n",
    "from mb_utils import *"
   ]
  },
  {
   "cell_type": "code",
   "execution_count": 5,
   "metadata": {},
   "outputs": [],
   "source": [
    "Tx = 2754 #5511 # The number of time steps input to the model from the spectrogram\n",
    "n_freq = 101 # Number of frequencies input to the model at each time step of the spectrogram\n",
    "Ty = 1375 # The number of time steps in the output of our model"
   ]
  },
  {
   "cell_type": "markdown",
   "metadata": {
    "collapsed": true
   },
   "source": [
    "# model training"
   ]
  },
  {
   "cell_type": "code",
   "execution_count": 6,
   "metadata": {},
   "outputs": [
    {
     "name": "stdout",
     "output_type": "stream",
     "text": [
      "Size of X_training: (1000, 2754, 101)\n",
      "Size of X_val: (400, 2754, 101)\n"
     ]
    }
   ],
   "source": [
    "# load training features and labels for 1000 \n",
    "\n",
    "file = open('XY_train/X_1000_5sec_v0.pkl', 'rb')\n",
    "X_training = pickle.load(file)\n",
    "file.close()\n",
    "\n",
    "file = open('XY_train/y_1000_5sec_v0.pkl', 'rb')\n",
    "y_training = pickle.load(file)\n",
    "file.close()\n",
    "\n",
    "# load validation features and labels\n",
    "file = open('XY_val/X_400_5sec_100_100_200.pkl', 'rb')\n",
    "X_val = pickle.load(file)\n",
    "file.close()\n",
    "\n",
    "file = open('XY_val/y_400_5sec_100_100_200.pkl', 'rb')\n",
    "y_val = pickle.load(file)\n",
    "file.close()\n",
    "\n",
    "# one-hot encode labels\n",
    "y_training_oh = encode_and_oh_labels(y_training)\n",
    "y_val_oh = encode_and_oh_labels(y_val)\n",
    "\n",
    "print('Size of X_training: {}'.format(X_training.shape))\n",
    "print('Size of X_val: {}'.format(X_val.shape))"
   ]
  },
  {
   "cell_type": "code",
   "execution_count": 6,
   "metadata": {},
   "outputs": [
    {
     "name": "stdout",
     "output_type": "stream",
     "text": [
      "Size of X_training: (4000, 2754, 101)\n",
      "Size of X_val: (400, 2754, 101)\n"
     ]
    }
   ],
   "source": [
    "# load training features and labels for 4000 over 4 files\n",
    "\n",
    "#v0\n",
    "file = open('XY_train/X_1000_5sec_v0.pkl', 'rb')\n",
    "X_training_v0 = pickle.load(file)\n",
    "file.close()\n",
    "\n",
    "file = open('XY_train/y_1000_5sec_v0.pkl', 'rb')\n",
    "y_training_v0 = pickle.load(file)\n",
    "file.close()\n",
    "\n",
    "#v1\n",
    "file = open('XY_train/X_1000_5sec_v1.pkl', 'rb')\n",
    "X_training_v1 = pickle.load(file)\n",
    "file.close()\n",
    "\n",
    "file = open('XY_train/y_1000_5sec_v1.pkl', 'rb')\n",
    "y_training_v1 = pickle.load(file)\n",
    "file.close()\n",
    "\n",
    "#v2\n",
    "file = open('XY_train/X_1000_5sec_v2.pkl', 'rb')\n",
    "X_training_v2 = pickle.load(file)\n",
    "file.close()\n",
    "\n",
    "file = open('XY_train/y_1000_5sec_v2.pkl', 'rb')\n",
    "y_training_v2 = pickle.load(file)\n",
    "file.close()\n",
    "\n",
    "#v3\n",
    "file = open('XY_train/X_1000_5sec_v3.pkl', 'rb')\n",
    "X_training_v3 = pickle.load(file)\n",
    "file.close()\n",
    "\n",
    "file = open('XY_train/y_1000_5sec_v3.pkl', 'rb')\n",
    "y_training_v3 = pickle.load(file)\n",
    "file.close()\n",
    "\n",
    "X_training = np.concatenate([X_training_v0, X_training_v1, X_training_v2, X_training_v3])\n",
    "y_training = np.concatenate([y_training_v0, y_training_v1, y_training_v2, y_training_v3])\n",
    "\n",
    "del(X_training_v0)\n",
    "del(X_training_v1)\n",
    "del(X_training_v2)\n",
    "del(X_training_v3)\n",
    "\n",
    "# load validation features and labels\n",
    "file = open('XY_val/X_400_5sec_100_100_200.pkl', 'rb')\n",
    "X_val = pickle.load(file)\n",
    "file.close()\n",
    "\n",
    "file = open('XY_val/y_400_5sec_100_100_200.pkl', 'rb')\n",
    "y_val = pickle.load(file)\n",
    "file.close()\n",
    "\n",
    "# one-hot encode labels\n",
    "y_training_oh = encode_and_oh_labels(y_training)\n",
    "y_val_oh = encode_and_oh_labels(y_val)\n",
    "\n",
    "print('Size of X_training: {}'.format(X_training.shape))\n",
    "print('Size of X_val: {}'.format(X_val.shape))"
   ]
  },
  {
   "cell_type": "code",
   "execution_count": 6,
   "metadata": {},
   "outputs": [
    {
     "name": "stdout",
     "output_type": "stream",
     "text": [
      "Size of X_training: (8000, 2754, 101)\n",
      "Size of X_val: (400, 2754, 101)\n"
     ]
    }
   ],
   "source": [
    "# load training features and labels for 8000 over 8 files\n",
    "\n",
    "#v0\n",
    "file = open('XY_train/X_1000_5sec_v0.pkl', 'rb')\n",
    "X_training_v0 = pickle.load(file)\n",
    "file.close()\n",
    "\n",
    "file = open('XY_train/y_1000_5sec_v0.pkl', 'rb')\n",
    "y_training_v0 = pickle.load(file)\n",
    "file.close()\n",
    "\n",
    "#v1\n",
    "file = open('XY_train/X_1000_5sec_v1.pkl', 'rb')\n",
    "X_training_v1 = pickle.load(file)\n",
    "file.close()\n",
    "\n",
    "file = open('XY_train/y_1000_5sec_v1.pkl', 'rb')\n",
    "y_training_v1 = pickle.load(file)\n",
    "file.close()\n",
    "\n",
    "#v2\n",
    "file = open('XY_train/X_1000_5sec_v2.pkl', 'rb')\n",
    "X_training_v2 = pickle.load(file)\n",
    "file.close()\n",
    "\n",
    "file = open('XY_train/y_1000_5sec_v2.pkl', 'rb')\n",
    "y_training_v2 = pickle.load(file)\n",
    "file.close()\n",
    "\n",
    "#v3\n",
    "file = open('XY_train/X_1000_5sec_v3.pkl', 'rb')\n",
    "X_training_v3 = pickle.load(file)\n",
    "file.close()\n",
    "\n",
    "file = open('XY_train/y_1000_5sec_v3.pkl', 'rb')\n",
    "y_training_v3 = pickle.load(file)\n",
    "file.close()\n",
    "\n",
    "#v4\n",
    "file = open('XY_train/X_1000_5sec_v4.pkl', 'rb')\n",
    "X_training_v4 = pickle.load(file)\n",
    "file.close()\n",
    "\n",
    "file = open('XY_train/y_1000_5sec_v4.pkl', 'rb')\n",
    "y_training_v4 = pickle.load(file)\n",
    "file.close()\n",
    "\n",
    "#v5\n",
    "file = open('XY_train/X_1000_5sec_v5.pkl', 'rb')\n",
    "X_training_v5 = pickle.load(file)\n",
    "file.close()\n",
    "\n",
    "file = open('XY_train/y_1000_5sec_v5.pkl', 'rb')\n",
    "y_training_v5 = pickle.load(file)\n",
    "file.close()\n",
    "\n",
    "#v6\n",
    "file = open('XY_train/X_1000_5sec_v6.pkl', 'rb')\n",
    "X_training_v6 = pickle.load(file)\n",
    "file.close()\n",
    "\n",
    "file = open('XY_train/y_1000_5sec_v6.pkl', 'rb')\n",
    "y_training_v6 = pickle.load(file)\n",
    "file.close()\n",
    "\n",
    "#v7\n",
    "file = open('XY_train/X_1000_5sec_v7.pkl', 'rb')\n",
    "X_training_v7 = pickle.load(file)\n",
    "file.close()\n",
    "\n",
    "file = open('XY_train/y_1000_5sec_v7.pkl', 'rb')\n",
    "y_training_v7 = pickle.load(file)\n",
    "file.close()\n",
    "\n",
    "X_training = np.concatenate([X_training_v0, X_training_v1, X_training_v2, X_training_v3,\n",
    "                            X_training_v4, X_training_v5, X_training_v6, X_training_v7])\n",
    "y_training = np.concatenate([y_training_v0, y_training_v1, y_training_v2, y_training_v3,\n",
    "                            y_training_v4, y_training_v5, y_training_v6, y_training_v7])\n",
    "\n",
    "del(X_training_v0)\n",
    "del(X_training_v1)\n",
    "del(X_training_v2)\n",
    "del(X_training_v3)\n",
    "del(X_training_v4)\n",
    "del(X_training_v5)\n",
    "del(X_training_v6)\n",
    "del(X_training_v7)\n",
    "\n",
    "# load validation features and labels\n",
    "file = open('XY_val/X_400_5sec_100_100_200.pkl', 'rb')\n",
    "X_val = pickle.load(file)\n",
    "file.close()\n",
    "\n",
    "file = open('XY_val/y_400_5sec_100_100_200.pkl', 'rb')\n",
    "y_val = pickle.load(file)\n",
    "file.close()\n",
    "\n",
    "# one-hot encode labels\n",
    "y_training_oh = encode_and_oh_labels(y_training)\n",
    "y_val_oh = encode_and_oh_labels(y_val)\n",
    "\n",
    "print('Size of X_training: {}'.format(X_training.shape))\n",
    "print('Size of X_val: {}'.format(X_val.shape))"
   ]
  },
  {
   "cell_type": "code",
   "execution_count": 7,
   "metadata": {},
   "outputs": [],
   "source": [
    "label_decoder_dict = {0:'empty', 1:'enough', 2:'not_enough'}"
   ]
  },
  {
   "cell_type": "code",
   "execution_count": 8,
   "metadata": {},
   "outputs": [],
   "source": [
    "# shuffle training data explicitly\n",
    "np.random.seed(134)\n",
    "perm = np.random.permutation(len(X_training))\n",
    "\n",
    "X_training = X_training[perm]\n",
    "y_training = y_training[perm]\n",
    "y_training_oh = y_training_oh[perm]"
   ]
  },
  {
   "cell_type": "code",
   "execution_count": 25,
   "metadata": {},
   "outputs": [],
   "source": [
    "def model(input_shape):\n",
    "    X_input = Input(shape = input_shape)\n",
    "    \n",
    "    X = Conv1D(filters=196, kernel_size=15, strides=4)(X_input)\n",
    "    X = BatchNormalization()(X)\n",
    "    X = Activation('relu')(X)\n",
    "    X = Dropout(0.0)(X)\n",
    "    \n",
    "    X = Bidirectional(LSTM(units=128))(X)\n",
    "    X = Dense(3, activation='softmax')(X)\n",
    "\n",
    "    model = Model(inputs = X_input, outputs = X)\n",
    "    \n",
    "    return model  "
   ]
  },
  {
   "cell_type": "code",
   "execution_count": 9,
   "metadata": {},
   "outputs": [],
   "source": [
    "def gru_model(input_shape):\n",
    "    X_input = Input(shape = input_shape)\n",
    "    \n",
    "    X = Conv1D(filters=196, kernel_size=15, strides=4)(X_input)\n",
    "    X = BatchNormalization()(X)\n",
    "    X = Activation('relu')(X)\n",
    "    X = Dropout(0.5)(X)\n",
    "\n",
    "    X = GRU(units=128, return_sequences = True)(X)\n",
    "    X = Dropout(0.5)(X)\n",
    "    X = BatchNormalization()(X)\n",
    "    \n",
    "    X = GRU(units=128, return_sequences = True)(X)\n",
    "    X = Dropout(0.5)(X)\n",
    "    X = BatchNormalization()(X)\n",
    "    X = Dropout(0.5)(X)\n",
    "    \n",
    "    X = TimeDistributed(Dense(1, activation='relu'))(X)\n",
    "    X = Reshape((685,))(X)\n",
    "    X = Dense(3, activation='softmax')(X)\n",
    "    \n",
    "    model = Model(inputs=X_input, outputs=X)\n",
    "    return model"
   ]
  },
  {
   "cell_type": "code",
   "execution_count": 9,
   "metadata": {},
   "outputs": [],
   "source": [
    "def gru_model2(input_shape):\n",
    "    X_input = Input(shape = input_shape)\n",
    "    \n",
    "    X = Conv1D(filters=196, kernel_size=15, strides=4)(X_input)\n",
    "    X = BatchNormalization()(X)\n",
    "    X = Activation('relu')(X)\n",
    "    X = Dropout(0.5)(X)\n",
    "\n",
    "    X = GRU(units=128, return_sequences = True)(X)\n",
    "    X = Dropout(0.5)(X)\n",
    "    X = BatchNormalization()(X)\n",
    "    \n",
    "    X = GRU(units=128, return_sequences = True)(X)\n",
    "    X = Dropout(0.5)(X)\n",
    "    X = BatchNormalization()(X)\n",
    "    X = Dropout(0.5)(X)\n",
    "    \n",
    "#    X = TimeDistributed(Dense(1, activation='relu'))(X)\n",
    "#    X = Reshape((685,))(X)\n",
    "    X = Flatten()(X)\n",
    "    X = Dense(3, activation='softmax')(X)\n",
    "    \n",
    "    model = Model(inputs=X_input, outputs=X)\n",
    "    return model"
   ]
  },
  {
   "cell_type": "code",
   "execution_count": 18,
   "metadata": {},
   "outputs": [],
   "source": [
    "def gru_model3(input_shape):\n",
    "    X_input = Input(shape = input_shape)\n",
    "    \n",
    "    X = Conv1D(filters=196, kernel_size=15, strides=4)(X_input)\n",
    "    X = BatchNormalization()(X)\n",
    "    X = Activation('relu')(X)\n",
    "    X = Dropout(0.5)(X)\n",
    "\n",
    "    X = GRU(units=128, return_sequences = True)(X)\n",
    "    X = Dropout(0.5)(X)\n",
    "    X = BatchNormalization()(X)\n",
    "    \n",
    "    X = GRU(units=128, return_sequences = False)(X)\n",
    "    X = Dropout(0.5)(X)\n",
    "    X = BatchNormalization()(X)\n",
    "    X = Dropout(0.5)(X)\n",
    "    \n",
    "#    X = TimeDistributed(Dense(1, activation='relu'))(X)\n",
    "#    X = Reshape((685,))(X)\n",
    "    #X = Flatten()(X)\n",
    "    X = Dense(3, activation='softmax')(X)\n",
    "    \n",
    "    model = Model(inputs=X_input, outputs=X)\n",
    "    return model"
   ]
  },
  {
   "cell_type": "code",
   "execution_count": 10,
   "metadata": {},
   "outputs": [
    {
     "name": "stdout",
     "output_type": "stream",
     "text": [
      "WARNING:tensorflow:From c:\\users\\lukewolc\\appdata\\local\\programs\\python\\python37\\lib\\site-packages\\keras\\backend\\tensorflow_backend.py:95: The name tf.reset_default_graph is deprecated. Please use tf.compat.v1.reset_default_graph instead.\n",
      "\n",
      "WARNING:tensorflow:From c:\\users\\lukewolc\\appdata\\local\\programs\\python\\python37\\lib\\site-packages\\keras\\backend\\tensorflow_backend.py:98: The name tf.placeholder_with_default is deprecated. Please use tf.compat.v1.placeholder_with_default instead.\n",
      "\n",
      "WARNING:tensorflow:From c:\\users\\lukewolc\\appdata\\local\\programs\\python\\python37\\lib\\site-packages\\keras\\backend\\tensorflow_backend.py:102: The name tf.get_default_graph is deprecated. Please use tf.compat.v1.get_default_graph instead.\n",
      "\n"
     ]
    }
   ],
   "source": [
    "K.clear_session()"
   ]
  },
  {
   "cell_type": "code",
   "execution_count": 11,
   "metadata": {},
   "outputs": [
    {
     "name": "stdout",
     "output_type": "stream",
     "text": [
      "WARNING:tensorflow:From c:\\users\\lukewolc\\appdata\\local\\programs\\python\\python37\\lib\\site-packages\\keras\\backend\\tensorflow_backend.py:517: The name tf.placeholder is deprecated. Please use tf.compat.v1.placeholder instead.\n",
      "\n",
      "WARNING:tensorflow:From c:\\users\\lukewolc\\appdata\\local\\programs\\python\\python37\\lib\\site-packages\\keras\\backend\\tensorflow_backend.py:4138: The name tf.random_uniform is deprecated. Please use tf.random.uniform instead.\n",
      "\n",
      "WARNING:tensorflow:From c:\\users\\lukewolc\\appdata\\local\\programs\\python\\python37\\lib\\site-packages\\keras\\backend\\tensorflow_backend.py:3445: calling dropout (from tensorflow.python.ops.nn_ops) with keep_prob is deprecated and will be removed in a future version.\n",
      "Instructions for updating:\n",
      "Please use `rate` instead of `keep_prob`. Rate should be set to `rate = 1 - keep_prob`.\n"
     ]
    }
   ],
   "source": [
    "model = gru_model(input_shape = (Tx, n_freq))"
   ]
  },
  {
   "cell_type": "code",
   "execution_count": 12,
   "metadata": {},
   "outputs": [
    {
     "name": "stdout",
     "output_type": "stream",
     "text": [
      "_________________________________________________________________\n",
      "Layer (type)                 Output Shape              Param #   \n",
      "=================================================================\n",
      "input_1 (InputLayer)         (None, 2754, 101)         0         \n",
      "_________________________________________________________________\n",
      "conv1d_1 (Conv1D)            (None, 685, 196)          297136    \n",
      "_________________________________________________________________\n",
      "batch_normalization_1 (Batch (None, 685, 196)          784       \n",
      "_________________________________________________________________\n",
      "activation_1 (Activation)    (None, 685, 196)          0         \n",
      "_________________________________________________________________\n",
      "dropout_1 (Dropout)          (None, 685, 196)          0         \n",
      "_________________________________________________________________\n",
      "gru_1 (GRU)                  (None, 685, 128)          124800    \n",
      "_________________________________________________________________\n",
      "dropout_2 (Dropout)          (None, 685, 128)          0         \n",
      "_________________________________________________________________\n",
      "batch_normalization_2 (Batch (None, 685, 128)          512       \n",
      "_________________________________________________________________\n",
      "gru_2 (GRU)                  (None, 685, 128)          98688     \n",
      "_________________________________________________________________\n",
      "dropout_3 (Dropout)          (None, 685, 128)          0         \n",
      "_________________________________________________________________\n",
      "batch_normalization_3 (Batch (None, 685, 128)          512       \n",
      "_________________________________________________________________\n",
      "dropout_4 (Dropout)          (None, 685, 128)          0         \n",
      "_________________________________________________________________\n",
      "time_distributed_1 (TimeDist (None, 685, 1)            129       \n",
      "_________________________________________________________________\n",
      "reshape_1 (Reshape)          (None, 685)               0         \n",
      "_________________________________________________________________\n",
      "dense_2 (Dense)              (None, 3)                 2058      \n",
      "=================================================================\n",
      "Total params: 524,619\n",
      "Trainable params: 523,715\n",
      "Non-trainable params: 904\n",
      "_________________________________________________________________\n"
     ]
    }
   ],
   "source": [
    "model.summary()"
   ]
  },
  {
   "cell_type": "code",
   "execution_count": 13,
   "metadata": {},
   "outputs": [
    {
     "name": "stdout",
     "output_type": "stream",
     "text": [
      "version: 6860093\n",
      "WARNING:tensorflow:From c:\\users\\lukewolc\\appdata\\local\\programs\\python\\python37\\lib\\site-packages\\keras\\optimizers.py:790: The name tf.train.Optimizer is deprecated. Please use tf.compat.v1.train.Optimizer instead.\n",
      "\n"
     ]
    }
   ],
   "source": [
    "version = '{}'.format(int(time()%1e7))\n",
    "tb_path = 'tensorboard_logs/{}'.format(version)\n",
    "tensorboard = TensorBoard(log_dir=tb_path, histogram_freq=1)\n",
    "print('version: {}'.format(version))\n",
    "\n",
    "#opt = Adam(lr=0.0001, beta_1=0.9, beta_2=0.999, decay=0.01)\n",
    "model.compile(loss='categorical_crossentropy', optimizer='adam', metrics=[\"accuracy\"])"
   ]
  },
  {
   "cell_type": "code",
   "execution_count": 14,
   "metadata": {
    "scrolled": true
   },
   "outputs": [
    {
     "name": "stdout",
     "output_type": "stream",
     "text": [
      "WARNING:tensorflow:From c:\\users\\lukewolc\\appdata\\local\\programs\\python\\python37\\lib\\site-packages\\tensorflow\\python\\ops\\math_grad.py:1250: add_dispatch_support.<locals>.wrapper (from tensorflow.python.ops.array_ops) is deprecated and will be removed in a future version.\n",
      "Instructions for updating:\n",
      "Use tf.where in 2.0, which has the same broadcast rule as np.where\n",
      "Train on 8000 samples, validate on 400 samples\n",
      "WARNING:tensorflow:From c:\\users\\lukewolc\\appdata\\local\\programs\\python\\python37\\lib\\site-packages\\keras\\callbacks.py:848: The name tf.summary.histogram is deprecated. Please use tf.compat.v1.summary.histogram instead.\n",
      "\n",
      "WARNING:tensorflow:From c:\\users\\lukewolc\\appdata\\local\\programs\\python\\python37\\lib\\site-packages\\keras\\callbacks.py:850: The name tf.summary.merge_all is deprecated. Please use tf.compat.v1.summary.merge_all instead.\n",
      "\n",
      "WARNING:tensorflow:From c:\\users\\lukewolc\\appdata\\local\\programs\\python\\python37\\lib\\site-packages\\keras\\callbacks.py:853: The name tf.summary.FileWriter is deprecated. Please use tf.compat.v1.summary.FileWriter instead.\n",
      "\n",
      "Epoch 1/10\n",
      "8000/8000 [==============================] - 684s 86ms/step - loss: 0.7378 - acc: 0.5876 - val_loss: 0.7475 - val_acc: 0.4800\n",
      "Epoch 2/10\n",
      "8000/8000 [==============================] - 906s 113ms/step - loss: 0.6372 - acc: 0.6104 - val_loss: 0.7267 - val_acc: 0.6075\n",
      "Epoch 3/10\n",
      "8000/8000 [==============================] - 993s 124ms/step - loss: 0.6021 - acc: 0.6540 - val_loss: 0.7007 - val_acc: 0.6150\n",
      "Epoch 4/10\n",
      "8000/8000 [==============================] - 1193s 149ms/step - loss: 0.5751 - acc: 0.6779 - val_loss: 0.7033 - val_acc: 0.6250\n",
      "Epoch 5/10\n",
      "8000/8000 [==============================] - 1253s 157ms/step - loss: 0.5915 - acc: 0.6748 - val_loss: 0.6763 - val_acc: 0.6200\n",
      "Epoch 6/10\n",
      "8000/8000 [==============================] - 1062s 133ms/step - loss: 0.5828 - acc: 0.6919 - val_loss: 0.7051 - val_acc: 0.6350\n",
      "Epoch 7/10\n",
      "8000/8000 [==============================] - 1250s 156ms/step - loss: 0.5950 - acc: 0.6603 - val_loss: 0.6795 - val_acc: 0.6350\n",
      "Epoch 8/10\n",
      "8000/8000 [==============================] - 1082s 135ms/step - loss: 0.5680 - acc: 0.7077 - val_loss: 0.7042 - val_acc: 0.6300\n",
      "Epoch 9/10\n",
      "8000/8000 [==============================] - 1087s 136ms/step - loss: 0.6027 - acc: 0.6546 - val_loss: 0.6836 - val_acc: 0.6075\n",
      "Epoch 10/10\n",
      "8000/8000 [==============================] - 1241s 155ms/step - loss: 0.5526 - acc: 0.7045 - val_loss: 0.6829 - val_acc: 0.6150\n"
     ]
    },
    {
     "data": {
      "text/plain": [
       "<keras.callbacks.History at 0x21f65a6e048>"
      ]
     },
     "execution_count": 14,
     "metadata": {},
     "output_type": "execute_result"
    }
   ],
   "source": [
    "model.fit(X_training, y_training_oh, batch_size=128, epochs=10, shuffle=True,\n",
    "         validation_data = [X_val, y_val_oh], callbacks = [tensorboard])"
   ]
  },
  {
   "cell_type": "code",
   "execution_count": null,
   "metadata": {},
   "outputs": [],
   "source": []
  },
  {
   "cell_type": "code",
   "execution_count": 15,
   "metadata": {},
   "outputs": [],
   "source": [
    "# get predictions on validation set\n",
    "labels = y_val\n",
    "preds = model.predict(X_val)\n",
    "preds_text = [label_decoder_dict[v] for v in np.argmax(preds, axis=1)]"
   ]
  },
  {
   "cell_type": "code",
   "execution_count": 36,
   "metadata": {},
   "outputs": [],
   "source": [
    "# get predictions on training set\n",
    "labels = y_training[:200]\n",
    "preds = model.predict(X_training[:200])\n",
    "preds_text = [label_decoder_dict[v] for v in np.argmax(preds, axis=1)]"
   ]
  },
  {
   "cell_type": "code",
   "execution_count": 16,
   "metadata": {},
   "outputs": [],
   "source": [
    "results = pd.DataFrame({'labels':labels, 'preds':preds_text})"
   ]
  },
  {
   "cell_type": "code",
   "execution_count": 17,
   "metadata": {},
   "outputs": [
    {
     "data": {
      "text/html": [
       "<div>\n",
       "<style scoped>\n",
       "    .dataframe tbody tr th:only-of-type {\n",
       "        vertical-align: middle;\n",
       "    }\n",
       "\n",
       "    .dataframe tbody tr th {\n",
       "        vertical-align: top;\n",
       "    }\n",
       "\n",
       "    .dataframe thead th {\n",
       "        text-align: right;\n",
       "    }\n",
       "</style>\n",
       "<table border=\"1\" class=\"dataframe\">\n",
       "  <thead>\n",
       "    <tr style=\"text-align: right;\">\n",
       "      <th>preds</th>\n",
       "      <th>empty</th>\n",
       "      <th>enough</th>\n",
       "      <th>not_enough</th>\n",
       "    </tr>\n",
       "    <tr>\n",
       "      <th>labels</th>\n",
       "      <th></th>\n",
       "      <th></th>\n",
       "      <th></th>\n",
       "    </tr>\n",
       "  </thead>\n",
       "  <tbody>\n",
       "    <tr>\n",
       "      <th>empty</th>\n",
       "      <td>146</td>\n",
       "      <td>1</td>\n",
       "      <td>53</td>\n",
       "    </tr>\n",
       "    <tr>\n",
       "      <th>enough</th>\n",
       "      <td>0</td>\n",
       "      <td>0</td>\n",
       "      <td>100</td>\n",
       "    </tr>\n",
       "    <tr>\n",
       "      <th>not_enough</th>\n",
       "      <td>0</td>\n",
       "      <td>0</td>\n",
       "      <td>100</td>\n",
       "    </tr>\n",
       "  </tbody>\n",
       "</table>\n",
       "</div>"
      ],
      "text/plain": [
       "preds       empty  enough  not_enough\n",
       "labels                               \n",
       "empty         146       1          53\n",
       "enough          0       0         100\n",
       "not_enough      0       0         100"
      ]
     },
     "execution_count": 17,
     "metadata": {},
     "output_type": "execute_result"
    }
   ],
   "source": [
    "pd.crosstab(results['labels'], results['preds'])"
   ]
  },
  {
   "cell_type": "code",
   "execution_count": 34,
   "metadata": {},
   "outputs": [],
   "source": [
    "model.save('trained_models/{}.h5'.format(version))"
   ]
  },
  {
   "cell_type": "code",
   "execution_count": 18,
   "metadata": {},
   "outputs": [
    {
     "data": {
      "text/plain": [
       "'6860093'"
      ]
     },
     "execution_count": 18,
     "metadata": {},
     "output_type": "execute_result"
    }
   ],
   "source": [
    "version"
   ]
  },
  {
   "cell_type": "markdown",
   "metadata": {},
   "source": [
    "####  version notes\n",
    "\n",
    "- 1st: good data, 1000.  perfect on train and test but overfitting. randomizing where words appear in clip but only using a few dozen clips.\n",
    "- 2nd: good data, 4000. perfect on train and test but overfitting. same as above.\n",
    "\n",
    "add data augmentation.\n",
    "\n",
    "- `4055836`: train on 1000 using `gru_model2`, after (4x4) data augmentation on each of enoughs, not_enoughs, empty. high 90s, except for predicting some not_enoughs as enoughs.\n",
    "- `4058922`: train on 4000 using `gru_model2` for 2 epochs.  val set pulls from different folders of augmented clips (but same original 10 clips).\n",
    "\n",
    "add train/val split at original recorded_clip level.\n",
    "\n",
    "- `4106576`: train on 1000 using LSTM `model` for 20 epochs.  data clips were split into 8/10 for train and 2/10 for val, and then augmented 5x5 each, with ps sigma = 2.5/2 and ts sigma = 0.4/2.  was perfect on both train and val!\n",
    "- `4109505`: same as previous, but 5 epochs with 4000 training samples. also basically perfect on train and val.\n",
    "- `4192521`: 4000 samples with 50+ 'collected' backgrounds. 10 epochs. overfits around 8th.  predicts 'enough' too often but does pretty good with 'not enough'\n",
    "- `4206950`: 8000 samples like previous, but batch size = 128 instead of 64.\n",
    "\n",
    "switch to new 'enough' samples (k.), and add some more 'not enough' samples.\n",
    "\n",
    "- `4909928`: train on 1000 using LSTM `model` for 5 epochs, with new different 'enough' samples.  seemed to struggle so trying `gru_model`.\n",
    "- `4206950`: 1000 for 10 epochs using `gru_model`. does perfect on empty and enough, but thinks 92% of the not_enough's are empty.\n",
    "- `4913454`: 4000 for 5 epochs using `gru_model`. \n",
    "- `4943569`: same but for 20 epochs.  did almost perfect on train and val, but during runtime only predicts not_enough.  needs more noisy backgrounds, and maybe less epochs training so it generalizes better.\n",
    "\n",
    "record 720 more background clips.\n",
    "- `6782372`: 4000 for 10 epochs using `gru_model`. started to improve after 6 epochs so i'll retrain for 20 total. \n",
    "- `6788415`: 4000 for 20 epochs, didn't do much better.\n",
    "\n",
    "switch class mix from 333/333/334 to 200/200/600 (enough/not_enough/empty)\n",
    "\n",
    "- `6860093`: 8000 for 10 epochs with the new mix.  still `gru_model`. pretty bad so not saving for runtime testing."
   ]
  },
  {
   "cell_type": "code",
   "execution_count": null,
   "metadata": {},
   "outputs": [],
   "source": []
  },
  {
   "cell_type": "code",
   "execution_count": null,
   "metadata": {
    "collapsed": true
   },
   "outputs": [],
   "source": []
  }
 ],
 "metadata": {
  "kernelspec": {
   "display_name": "Python 3",
   "language": "python",
   "name": "python3"
  },
  "language_info": {
   "codemirror_mode": {
    "name": "ipython",
    "version": 3
   },
   "file_extension": ".py",
   "mimetype": "text/x-python",
   "name": "python",
   "nbconvert_exporter": "python",
   "pygments_lexer": "ipython3",
   "version": "3.7.4"
  }
 },
 "nbformat": 4,
 "nbformat_minor": 2
}
