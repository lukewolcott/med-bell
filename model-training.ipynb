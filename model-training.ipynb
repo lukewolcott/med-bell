{
 "cells": [
  {
   "cell_type": "code",
   "execution_count": 1,
   "metadata": {},
   "outputs": [
    {
     "name": "stderr",
     "output_type": "stream",
     "text": [
      "c:\\users\\lukewolc\\appdata\\local\\programs\\python\\python37\\lib\\site-packages\\pydub\\utils.py:165: RuntimeWarning: Couldn't find ffmpeg or avconv - defaulting to ffmpeg, but may not work\n",
      "  warn(\"Couldn't find ffmpeg or avconv - defaulting to ffmpeg, but may not work\", RuntimeWarning)\n",
      "Using TensorFlow backend.\n"
     ]
    }
   ],
   "source": [
    "import numpy as np\n",
    "import random\n",
    "import sys\n",
    "import io\n",
    "import os\n",
    "from mb_utils import *\n",
    "%matplotlib inline\n",
    "import pickle\n",
    "\n",
    "import pandas as pd"
   ]
  },
  {
   "cell_type": "code",
   "execution_count": 2,
   "metadata": {},
   "outputs": [],
   "source": [
    "from keras.callbacks import ModelCheckpoint, TensorBoard\n",
    "from keras.models import Model, load_model, Sequential\n",
    "from keras.layers import Dense, Activation, Dropout, Input, Masking, TimeDistributed, LSTM, Conv1D\n",
    "from keras.layers import GRU, Bidirectional, BatchNormalization, Reshape, Flatten\n",
    "from keras.optimizers import Adam\n",
    "from keras.utils import np_utils\n",
    "import keras.backend as K\n",
    "from time import time"
   ]
  },
  {
   "cell_type": "code",
   "execution_count": 3,
   "metadata": {},
   "outputs": [],
   "source": [
    "from importlib import reload\n",
    "import mb_utils"
   ]
  },
  {
   "cell_type": "code",
   "execution_count": 4,
   "metadata": {},
   "outputs": [],
   "source": [
    "reload(mb_utils)\n",
    "from mb_utils import *"
   ]
  },
  {
   "cell_type": "code",
   "execution_count": 5,
   "metadata": {},
   "outputs": [],
   "source": [
    "Tx = 2754 #5511 # The number of time steps input to the model from the spectrogram\n",
    "n_freq = 101 # Number of frequencies input to the model at each time step of the spectrogram\n",
    "Ty = 1375 # The number of time steps in the output of our model"
   ]
  },
  {
   "cell_type": "markdown",
   "metadata": {
    "collapsed": true
   },
   "source": [
    "# model training"
   ]
  },
  {
   "cell_type": "code",
   "execution_count": 6,
   "metadata": {},
   "outputs": [
    {
     "name": "stdout",
     "output_type": "stream",
     "text": [
      "Size of X_training: (1000, 2754, 101)\n",
      "Size of X_val: (400, 2754, 101)\n"
     ]
    }
   ],
   "source": [
    "# load training features and labels for 1000 \n",
    "\n",
    "file = open('XY_train/X_1000_5sec_v0.pkl', 'rb')\n",
    "X_training = pickle.load(file)\n",
    "file.close()\n",
    "\n",
    "file = open('XY_train/y_1000_5sec_v0.pkl', 'rb')\n",
    "y_training = pickle.load(file)\n",
    "file.close()\n",
    "\n",
    "# load validation features and labels\n",
    "file = open('XY_val/X_400_5sec_100_100_200.pkl', 'rb')\n",
    "X_val = pickle.load(file)\n",
    "file.close()\n",
    "\n",
    "file = open('XY_val/y_400_5sec_100_100_200.pkl', 'rb')\n",
    "y_val = pickle.load(file)\n",
    "file.close()\n",
    "\n",
    "# one-hot encode labels\n",
    "y_training_oh = encode_and_oh_labels(y_training)\n",
    "y_val_oh = encode_and_oh_labels(y_val)\n",
    "\n",
    "print('Size of X_training: {}'.format(X_training.shape))\n",
    "print('Size of X_val: {}'.format(X_val.shape))"
   ]
  },
  {
   "cell_type": "code",
   "execution_count": 6,
   "metadata": {},
   "outputs": [
    {
     "name": "stdout",
     "output_type": "stream",
     "text": [
      "Size of X_training: (4000, 2754, 101)\n",
      "Size of X_val: (400, 2754, 101)\n"
     ]
    }
   ],
   "source": [
    "# load training features and labels for 4000 over 4 files\n",
    "\n",
    "#v0\n",
    "file = open('XY_train/X_1000_5sec_v0.pkl', 'rb')\n",
    "X_training_v0 = pickle.load(file)\n",
    "file.close()\n",
    "\n",
    "file = open('XY_train/y_1000_5sec_v0.pkl', 'rb')\n",
    "y_training_v0 = pickle.load(file)\n",
    "file.close()\n",
    "\n",
    "#v1\n",
    "file = open('XY_train/X_1000_5sec_v1.pkl', 'rb')\n",
    "X_training_v1 = pickle.load(file)\n",
    "file.close()\n",
    "\n",
    "file = open('XY_train/y_1000_5sec_v1.pkl', 'rb')\n",
    "y_training_v1 = pickle.load(file)\n",
    "file.close()\n",
    "\n",
    "#v2\n",
    "file = open('XY_train/X_1000_5sec_v2.pkl', 'rb')\n",
    "X_training_v2 = pickle.load(file)\n",
    "file.close()\n",
    "\n",
    "file = open('XY_train/y_1000_5sec_v2.pkl', 'rb')\n",
    "y_training_v2 = pickle.load(file)\n",
    "file.close()\n",
    "\n",
    "#v3\n",
    "file = open('XY_train/X_1000_5sec_v3.pkl', 'rb')\n",
    "X_training_v3 = pickle.load(file)\n",
    "file.close()\n",
    "\n",
    "file = open('XY_train/y_1000_5sec_v3.pkl', 'rb')\n",
    "y_training_v3 = pickle.load(file)\n",
    "file.close()\n",
    "\n",
    "X_training = np.concatenate([X_training_v0, X_training_v1, X_training_v2, X_training_v3])\n",
    "y_training = np.concatenate([y_training_v0, y_training_v1, y_training_v2, y_training_v3])\n",
    "\n",
    "del(X_training_v0)\n",
    "del(X_training_v1)\n",
    "del(X_training_v2)\n",
    "del(X_training_v3)\n",
    "\n",
    "# load validation features and labels\n",
    "file = open('XY_val/X_400_5sec_100_100_200.pkl', 'rb')\n",
    "X_val = pickle.load(file)\n",
    "file.close()\n",
    "\n",
    "file = open('XY_val/y_400_5sec_100_100_200.pkl', 'rb')\n",
    "y_val = pickle.load(file)\n",
    "file.close()\n",
    "\n",
    "# one-hot encode labels\n",
    "y_training_oh = encode_and_oh_labels(y_training)\n",
    "y_val_oh = encode_and_oh_labels(y_val)\n",
    "\n",
    "print('Size of X_training: {}'.format(X_training.shape))\n",
    "print('Size of X_val: {}'.format(X_val.shape))"
   ]
  },
  {
   "cell_type": "code",
   "execution_count": 6,
   "metadata": {},
   "outputs": [
    {
     "name": "stdout",
     "output_type": "stream",
     "text": [
      "Size of X_training: (8000, 2754, 101)\n",
      "Size of X_val: (400, 2754, 101)\n"
     ]
    }
   ],
   "source": [
    "# load training features and labels for 8000 over 8 files\n",
    "\n",
    "#v0\n",
    "file = open('XY_train/X_1000_5sec_v0.pkl', 'rb')\n",
    "X_training_v0 = pickle.load(file)\n",
    "file.close()\n",
    "\n",
    "file = open('XY_train/y_1000_5sec_v0.pkl', 'rb')\n",
    "y_training_v0 = pickle.load(file)\n",
    "file.close()\n",
    "\n",
    "#v1\n",
    "file = open('XY_train/X_1000_5sec_v1.pkl', 'rb')\n",
    "X_training_v1 = pickle.load(file)\n",
    "file.close()\n",
    "\n",
    "file = open('XY_train/y_1000_5sec_v1.pkl', 'rb')\n",
    "y_training_v1 = pickle.load(file)\n",
    "file.close()\n",
    "\n",
    "#v2\n",
    "file = open('XY_train/X_1000_5sec_v2.pkl', 'rb')\n",
    "X_training_v2 = pickle.load(file)\n",
    "file.close()\n",
    "\n",
    "file = open('XY_train/y_1000_5sec_v2.pkl', 'rb')\n",
    "y_training_v2 = pickle.load(file)\n",
    "file.close()\n",
    "\n",
    "#v3\n",
    "file = open('XY_train/X_1000_5sec_v3.pkl', 'rb')\n",
    "X_training_v3 = pickle.load(file)\n",
    "file.close()\n",
    "\n",
    "file = open('XY_train/y_1000_5sec_v3.pkl', 'rb')\n",
    "y_training_v3 = pickle.load(file)\n",
    "file.close()\n",
    "\n",
    "#v4\n",
    "file = open('XY_train/X_1000_5sec_v4.pkl', 'rb')\n",
    "X_training_v4 = pickle.load(file)\n",
    "file.close()\n",
    "\n",
    "file = open('XY_train/y_1000_5sec_v4.pkl', 'rb')\n",
    "y_training_v4 = pickle.load(file)\n",
    "file.close()\n",
    "\n",
    "#v5\n",
    "file = open('XY_train/X_1000_5sec_v5.pkl', 'rb')\n",
    "X_training_v5 = pickle.load(file)\n",
    "file.close()\n",
    "\n",
    "file = open('XY_train/y_1000_5sec_v5.pkl', 'rb')\n",
    "y_training_v5 = pickle.load(file)\n",
    "file.close()\n",
    "\n",
    "#v6\n",
    "file = open('XY_train/X_1000_5sec_v6.pkl', 'rb')\n",
    "X_training_v6 = pickle.load(file)\n",
    "file.close()\n",
    "\n",
    "file = open('XY_train/y_1000_5sec_v6.pkl', 'rb')\n",
    "y_training_v6 = pickle.load(file)\n",
    "file.close()\n",
    "\n",
    "#v7\n",
    "file = open('XY_train/X_1000_5sec_v7.pkl', 'rb')\n",
    "X_training_v7 = pickle.load(file)\n",
    "file.close()\n",
    "\n",
    "file = open('XY_train/y_1000_5sec_v7.pkl', 'rb')\n",
    "y_training_v7 = pickle.load(file)\n",
    "file.close()\n",
    "\n",
    "X_training = np.concatenate([X_training_v0, X_training_v1, X_training_v2, X_training_v3,\n",
    "                            X_training_v4, X_training_v5, X_training_v6, X_training_v7])\n",
    "y_training = np.concatenate([y_training_v0, y_training_v1, y_training_v2, y_training_v3,\n",
    "                            y_training_v4, y_training_v5, y_training_v6, y_training_v7])\n",
    "\n",
    "del(X_training_v0)\n",
    "del(X_training_v1)\n",
    "del(X_training_v2)\n",
    "del(X_training_v3)\n",
    "del(X_training_v4)\n",
    "del(X_training_v5)\n",
    "del(X_training_v6)\n",
    "del(X_training_v7)\n",
    "\n",
    "# load validation features and labels\n",
    "file = open('XY_val/X_400_5sec_100_100_200.pkl', 'rb')\n",
    "X_val = pickle.load(file)\n",
    "file.close()\n",
    "\n",
    "file = open('XY_val/y_400_5sec_100_100_200.pkl', 'rb')\n",
    "y_val = pickle.load(file)\n",
    "file.close()\n",
    "\n",
    "# one-hot encode labels\n",
    "y_training_oh = encode_and_oh_labels(y_training)\n",
    "y_val_oh = encode_and_oh_labels(y_val)\n",
    "\n",
    "print('Size of X_training: {}'.format(X_training.shape))\n",
    "print('Size of X_val: {}'.format(X_val.shape))"
   ]
  },
  {
   "cell_type": "code",
   "execution_count": 7,
   "metadata": {},
   "outputs": [],
   "source": [
    "label_decoder_dict = {0:'empty', 1:'enough', 2:'not_enough'}"
   ]
  },
  {
   "cell_type": "code",
   "execution_count": 8,
   "metadata": {},
   "outputs": [],
   "source": [
    "# shuffle training data explicitly\n",
    "np.random.seed(134)\n",
    "perm = np.random.permutation(len(X_training))\n",
    "\n",
    "X_training = X_training[perm]\n",
    "y_training = y_training[perm]\n",
    "y_training_oh = y_training_oh[perm]"
   ]
  },
  {
   "cell_type": "code",
   "execution_count": 25,
   "metadata": {},
   "outputs": [],
   "source": [
    "def model(input_shape):\n",
    "    X_input = Input(shape = input_shape)\n",
    "    \n",
    "    X = Conv1D(filters=196, kernel_size=15, strides=4)(X_input)\n",
    "    X = BatchNormalization()(X)\n",
    "    X = Activation('relu')(X)\n",
    "    X = Dropout(0.0)(X)\n",
    "    \n",
    "    X = Bidirectional(LSTM(units=128))(X)\n",
    "    X = Dense(3, activation='softmax')(X)\n",
    "\n",
    "    model = Model(inputs = X_input, outputs = X)\n",
    "    \n",
    "    return model  "
   ]
  },
  {
   "cell_type": "code",
   "execution_count": 9,
   "metadata": {},
   "outputs": [],
   "source": [
    "def gru_model(input_shape):\n",
    "    X_input = Input(shape = input_shape)\n",
    "    \n",
    "    X = Conv1D(filters=196, kernel_size=15, strides=4)(X_input)\n",
    "    X = BatchNormalization()(X)\n",
    "    X = Activation('relu')(X)\n",
    "    X = Dropout(0.5)(X)\n",
    "\n",
    "    X = GRU(units=128, return_sequences = True)(X)\n",
    "    X = Dropout(0.5)(X)\n",
    "    X = BatchNormalization()(X)\n",
    "    \n",
    "    X = GRU(units=128, return_sequences = True)(X)\n",
    "    X = Dropout(0.5)(X)\n",
    "    X = BatchNormalization()(X)\n",
    "    X = Dropout(0.5)(X)\n",
    "    \n",
    "    X = TimeDistributed(Dense(1, activation='relu'))(X)\n",
    "    X = Reshape((685,))(X)\n",
    "    X = Dense(3, activation='softmax')(X)\n",
    "    \n",
    "    model = Model(inputs=X_input, outputs=X)\n",
    "    return model"
   ]
  },
  {
   "cell_type": "code",
   "execution_count": 9,
   "metadata": {},
   "outputs": [],
   "source": [
    "def gru_model2(input_shape):\n",
    "    X_input = Input(shape = input_shape)\n",
    "    \n",
    "    X = Conv1D(filters=196, kernel_size=15, strides=4)(X_input)\n",
    "    X = BatchNormalization()(X)\n",
    "    X = Activation('relu')(X)\n",
    "    X = Dropout(0.5)(X)\n",
    "\n",
    "    X = GRU(units=128, return_sequences = True)(X)\n",
    "    X = Dropout(0.5)(X)\n",
    "    X = BatchNormalization()(X)\n",
    "    \n",
    "    X = GRU(units=128, return_sequences = True)(X)\n",
    "    X = Dropout(0.5)(X)\n",
    "    X = BatchNormalization()(X)\n",
    "    X = Dropout(0.5)(X)\n",
    "    \n",
    "#    X = TimeDistributed(Dense(1, activation='relu'))(X)\n",
    "#    X = Reshape((685,))(X)\n",
    "    X = Flatten()(X)\n",
    "    X = Dense(3, activation='softmax')(X)\n",
    "    \n",
    "    model = Model(inputs=X_input, outputs=X)\n",
    "    return model"
   ]
  },
  {
   "cell_type": "code",
   "execution_count": 18,
   "metadata": {},
   "outputs": [],
   "source": [
    "def gru_model3(input_shape):\n",
    "    X_input = Input(shape = input_shape)\n",
    "    \n",
    "    X = Conv1D(filters=196, kernel_size=15, strides=4)(X_input)\n",
    "    X = BatchNormalization()(X)\n",
    "    X = Activation('relu')(X)\n",
    "    X = Dropout(0.5)(X)\n",
    "\n",
    "    X = GRU(units=128, return_sequences = True)(X)\n",
    "    X = Dropout(0.5)(X)\n",
    "    X = BatchNormalization()(X)\n",
    "    \n",
    "    X = GRU(units=128, return_sequences = False)(X)\n",
    "    X = Dropout(0.5)(X)\n",
    "    X = BatchNormalization()(X)\n",
    "    X = Dropout(0.5)(X)\n",
    "    \n",
    "#    X = TimeDistributed(Dense(1, activation='relu'))(X)\n",
    "#    X = Reshape((685,))(X)\n",
    "    #X = Flatten()(X)\n",
    "    X = Dense(3, activation='softmax')(X)\n",
    "    \n",
    "    model = Model(inputs=X_input, outputs=X)\n",
    "    return model"
   ]
  },
  {
   "cell_type": "code",
   "execution_count": 10,
   "metadata": {},
   "outputs": [
    {
     "name": "stdout",
     "output_type": "stream",
     "text": [
      "WARNING:tensorflow:From c:\\users\\lukewolc\\appdata\\local\\programs\\python\\python37\\lib\\site-packages\\keras\\backend\\tensorflow_backend.py:95: The name tf.reset_default_graph is deprecated. Please use tf.compat.v1.reset_default_graph instead.\n",
      "\n",
      "WARNING:tensorflow:From c:\\users\\lukewolc\\appdata\\local\\programs\\python\\python37\\lib\\site-packages\\keras\\backend\\tensorflow_backend.py:98: The name tf.placeholder_with_default is deprecated. Please use tf.compat.v1.placeholder_with_default instead.\n",
      "\n",
      "WARNING:tensorflow:From c:\\users\\lukewolc\\appdata\\local\\programs\\python\\python37\\lib\\site-packages\\keras\\backend\\tensorflow_backend.py:102: The name tf.get_default_graph is deprecated. Please use tf.compat.v1.get_default_graph instead.\n",
      "\n"
     ]
    }
   ],
   "source": [
    "K.clear_session()"
   ]
  },
  {
   "cell_type": "code",
   "execution_count": 11,
   "metadata": {},
   "outputs": [
    {
     "name": "stdout",
     "output_type": "stream",
     "text": [
      "WARNING:tensorflow:From c:\\users\\lukewolc\\appdata\\local\\programs\\python\\python37\\lib\\site-packages\\keras\\backend\\tensorflow_backend.py:517: The name tf.placeholder is deprecated. Please use tf.compat.v1.placeholder instead.\n",
      "\n",
      "WARNING:tensorflow:From c:\\users\\lukewolc\\appdata\\local\\programs\\python\\python37\\lib\\site-packages\\keras\\backend\\tensorflow_backend.py:4138: The name tf.random_uniform is deprecated. Please use tf.random.uniform instead.\n",
      "\n",
      "WARNING:tensorflow:From c:\\users\\lukewolc\\appdata\\local\\programs\\python\\python37\\lib\\site-packages\\keras\\backend\\tensorflow_backend.py:3445: calling dropout (from tensorflow.python.ops.nn_ops) with keep_prob is deprecated and will be removed in a future version.\n",
      "Instructions for updating:\n",
      "Please use `rate` instead of `keep_prob`. Rate should be set to `rate = 1 - keep_prob`.\n"
     ]
    }
   ],
   "source": [
    "model = gru_model(input_shape = (Tx, n_freq))"
   ]
  },
  {
   "cell_type": "code",
   "execution_count": 12,
   "metadata": {},
   "outputs": [
    {
     "name": "stdout",
     "output_type": "stream",
     "text": [
      "_________________________________________________________________\n",
      "Layer (type)                 Output Shape              Param #   \n",
      "=================================================================\n",
      "input_1 (InputLayer)         (None, 2754, 101)         0         \n",
      "_________________________________________________________________\n",
      "conv1d_1 (Conv1D)            (None, 685, 196)          297136    \n",
      "_________________________________________________________________\n",
      "batch_normalization_1 (Batch (None, 685, 196)          784       \n",
      "_________________________________________________________________\n",
      "activation_1 (Activation)    (None, 685, 196)          0         \n",
      "_________________________________________________________________\n",
      "dropout_1 (Dropout)          (None, 685, 196)          0         \n",
      "_________________________________________________________________\n",
      "gru_1 (GRU)                  (None, 685, 128)          124800    \n",
      "_________________________________________________________________\n",
      "dropout_2 (Dropout)          (None, 685, 128)          0         \n",
      "_________________________________________________________________\n",
      "batch_normalization_2 (Batch (None, 685, 128)          512       \n",
      "_________________________________________________________________\n",
      "gru_2 (GRU)                  (None, 685, 128)          98688     \n",
      "_________________________________________________________________\n",
      "dropout_3 (Dropout)          (None, 685, 128)          0         \n",
      "_________________________________________________________________\n",
      "batch_normalization_3 (Batch (None, 685, 128)          512       \n",
      "_________________________________________________________________\n",
      "dropout_4 (Dropout)          (None, 685, 128)          0         \n",
      "_________________________________________________________________\n",
      "time_distributed_1 (TimeDist (None, 685, 1)            129       \n",
      "_________________________________________________________________\n",
      "reshape_1 (Reshape)          (None, 685)               0         \n",
      "_________________________________________________________________\n",
      "dense_2 (Dense)              (None, 3)                 2058      \n",
      "=================================================================\n",
      "Total params: 524,619\n",
      "Trainable params: 523,715\n",
      "Non-trainable params: 904\n",
      "_________________________________________________________________\n"
     ]
    }
   ],
   "source": [
    "model.summary()"
   ]
  },
  {
   "cell_type": "code",
   "execution_count": 13,
   "metadata": {},
   "outputs": [],
   "source": [
    "import keras"
   ]
  },
  {
   "cell_type": "code",
   "execution_count": 14,
   "metadata": {},
   "outputs": [],
   "source": [
    "import tensorflow as tf"
   ]
  },
  {
   "cell_type": "code",
   "execution_count": 19,
   "metadata": {},
   "outputs": [],
   "source": [
    "def custom_loss_w_label_smoothing(y_true, y_pred):\n",
    "    return tf.keras.losses.categorical_crossentropy(y_true, y_pred, label_smoothing=0.2)"
   ]
  },
  {
   "cell_type": "code",
   "execution_count": 15,
   "metadata": {},
   "outputs": [
    {
     "name": "stdout",
     "output_type": "stream",
     "text": [
      "version: 9722715\n",
      "WARNING:tensorflow:From c:\\users\\lukewolc\\appdata\\local\\programs\\python\\python37\\lib\\site-packages\\keras\\optimizers.py:790: The name tf.train.Optimizer is deprecated. Please use tf.compat.v1.train.Optimizer instead.\n",
      "\n",
      "WARNING:tensorflow:From c:\\users\\lukewolc\\appdata\\local\\programs\\python\\python37\\lib\\site-packages\\keras\\backend\\tensorflow_backend.py:3295: The name tf.log is deprecated. Please use tf.math.log instead.\n",
      "\n"
     ]
    }
   ],
   "source": [
    "version = '{}'.format(int(time()%1e7))\n",
    "tb_path = 'tensorboard_logs/{}'.format(version)\n",
    "tensorboard = TensorBoard(log_dir=tb_path, histogram_freq=1)\n",
    "print('version: {}'.format(version))\n",
    "\n",
    "#opt = Adam(lr=0.0001, beta_1=0.9, beta_2=0.999, decay=0.01)\n",
    "model.compile(loss='categorical_crossentropy', optimizer='adam', metrics=[\"accuracy\"])"
   ]
  },
  {
   "cell_type": "code",
   "execution_count": 16,
   "metadata": {
    "scrolled": true
   },
   "outputs": [
    {
     "name": "stdout",
     "output_type": "stream",
     "text": [
      "WARNING:tensorflow:From c:\\users\\lukewolc\\appdata\\local\\programs\\python\\python37\\lib\\site-packages\\tensorflow_core\\python\\ops\\math_grad.py:1424: where (from tensorflow.python.ops.array_ops) is deprecated and will be removed in a future version.\n",
      "Instructions for updating:\n",
      "Use tf.where in 2.0, which has the same broadcast rule as np.where\n",
      "WARNING:tensorflow:From c:\\users\\lukewolc\\appdata\\local\\programs\\python\\python37\\lib\\site-packages\\keras\\backend\\tensorflow_backend.py:986: The name tf.assign_add is deprecated. Please use tf.compat.v1.assign_add instead.\n",
      "\n",
      "WARNING:tensorflow:From c:\\users\\lukewolc\\appdata\\local\\programs\\python\\python37\\lib\\site-packages\\keras\\backend\\tensorflow_backend.py:973: The name tf.assign is deprecated. Please use tf.compat.v1.assign instead.\n",
      "\n",
      "WARNING:tensorflow:From c:\\users\\lukewolc\\appdata\\local\\programs\\python\\python37\\lib\\site-packages\\keras\\backend\\tensorflow_backend.py:2741: The name tf.Session is deprecated. Please use tf.compat.v1.Session instead.\n",
      "\n",
      "Train on 8000 samples, validate on 400 samples\n",
      "WARNING:tensorflow:From c:\\users\\lukewolc\\appdata\\local\\programs\\python\\python37\\lib\\site-packages\\keras\\backend\\tensorflow_backend.py:174: The name tf.get_default_session is deprecated. Please use tf.compat.v1.get_default_session instead.\n",
      "\n",
      "WARNING:tensorflow:From c:\\users\\lukewolc\\appdata\\local\\programs\\python\\python37\\lib\\site-packages\\keras\\backend\\tensorflow_backend.py:181: The name tf.ConfigProto is deprecated. Please use tf.compat.v1.ConfigProto instead.\n",
      "\n",
      "WARNING:tensorflow:From c:\\users\\lukewolc\\appdata\\local\\programs\\python\\python37\\lib\\site-packages\\keras\\backend\\tensorflow_backend.py:190: The name tf.global_variables is deprecated. Please use tf.compat.v1.global_variables instead.\n",
      "\n",
      "WARNING:tensorflow:From c:\\users\\lukewolc\\appdata\\local\\programs\\python\\python37\\lib\\site-packages\\keras\\backend\\tensorflow_backend.py:199: The name tf.is_variable_initialized is deprecated. Please use tf.compat.v1.is_variable_initialized instead.\n",
      "\n",
      "WARNING:tensorflow:From c:\\users\\lukewolc\\appdata\\local\\programs\\python\\python37\\lib\\site-packages\\keras\\backend\\tensorflow_backend.py:206: The name tf.variables_initializer is deprecated. Please use tf.compat.v1.variables_initializer instead.\n",
      "\n",
      "WARNING:tensorflow:From c:\\users\\lukewolc\\appdata\\local\\programs\\python\\python37\\lib\\site-packages\\keras\\callbacks.py:848: The name tf.summary.histogram is deprecated. Please use tf.compat.v1.summary.histogram instead.\n",
      "\n",
      "WARNING:tensorflow:From c:\\users\\lukewolc\\appdata\\local\\programs\\python\\python37\\lib\\site-packages\\keras\\callbacks.py:850: The name tf.summary.merge_all is deprecated. Please use tf.compat.v1.summary.merge_all instead.\n",
      "\n",
      "WARNING:tensorflow:From c:\\users\\lukewolc\\appdata\\local\\programs\\python\\python37\\lib\\site-packages\\keras\\callbacks.py:853: The name tf.summary.FileWriter is deprecated. Please use tf.compat.v1.summary.FileWriter instead.\n",
      "\n",
      "Epoch 1/100\n",
      "8000/8000 [==============================] - 678s 85ms/step - loss: 0.7384 - acc: 0.6522 - val_loss: 0.5853 - val_acc: 0.7200\n",
      "WARNING:tensorflow:From c:\\users\\lukewolc\\appdata\\local\\programs\\python\\python37\\lib\\site-packages\\keras\\callbacks.py:995: The name tf.Summary is deprecated. Please use tf.compat.v1.Summary instead.\n",
      "\n",
      "Epoch 2/100\n",
      "8000/8000 [==============================] - 862s 108ms/step - loss: 0.4533 - acc: 0.7659 - val_loss: 0.4864 - val_acc: 0.7175\n",
      "Epoch 3/100\n",
      "8000/8000 [==============================] - 942s 118ms/step - loss: 0.4276 - acc: 0.7829 - val_loss: 0.4493 - val_acc: 0.7525\n",
      "Epoch 4/100\n",
      "8000/8000 [==============================] - 960s 120ms/step - loss: 0.4067 - acc: 0.8058 - val_loss: 0.4137 - val_acc: 0.7650\n",
      "Epoch 5/100\n",
      "8000/8000 [==============================] - 974s 122ms/step - loss: 0.2997 - acc: 0.9199 - val_loss: 0.6881 - val_acc: 0.7350\n",
      "Epoch 6/100\n",
      "8000/8000 [==============================] - 978s 122ms/step - loss: 0.2111 - acc: 0.9566 - val_loss: 0.2540 - val_acc: 0.8850\n",
      "Epoch 7/100\n",
      "8000/8000 [==============================] - 987s 123ms/step - loss: 0.1931 - acc: 0.9659 - val_loss: 0.3916 - val_acc: 0.8800\n",
      "Epoch 8/100\n",
      "8000/8000 [==============================] - 999s 125ms/step - loss: 0.1835 - acc: 0.9651 - val_loss: 0.1892 - val_acc: 0.9200\n",
      "Epoch 9/100\n",
      "8000/8000 [==============================] - 1002s 125ms/step - loss: 0.1624 - acc: 0.9746 - val_loss: 0.1421 - val_acc: 0.9550\n",
      "Epoch 10/100\n",
      "8000/8000 [==============================] - 1013s 127ms/step - loss: 0.1409 - acc: 0.9764 - val_loss: 0.2475 - val_acc: 0.9100\n",
      "Epoch 11/100\n",
      "8000/8000 [==============================] - 1022s 128ms/step - loss: 0.1609 - acc: 0.9719 - val_loss: 0.7147 - val_acc: 0.7700\n",
      "Epoch 12/100\n",
      "8000/8000 [==============================] - 1024s 128ms/step - loss: 0.1739 - acc: 0.9677 - val_loss: 0.1884 - val_acc: 0.9325\n",
      "Epoch 13/100\n",
      "8000/8000 [==============================] - 1033s 129ms/step - loss: 0.1234 - acc: 0.9796 - val_loss: 0.1200 - val_acc: 0.9600\n",
      "Epoch 14/100\n",
      "8000/8000 [==============================] - 1033s 129ms/step - loss: 0.1135 - acc: 0.9806 - val_loss: 0.1085 - val_acc: 0.9725\n",
      "Epoch 15/100\n",
      "8000/8000 [==============================] - 1039s 130ms/step - loss: 0.0963 - acc: 0.9822 - val_loss: 0.3651 - val_acc: 0.9025\n",
      "Epoch 16/100\n",
      "8000/8000 [==============================] - 1045s 131ms/step - loss: 0.0976 - acc: 0.9808 - val_loss: 0.0959 - val_acc: 0.9800\n",
      "Epoch 17/100\n",
      "8000/8000 [==============================] - 1044s 131ms/step - loss: 0.0974 - acc: 0.9810 - val_loss: 0.1625 - val_acc: 0.9625\n",
      "Epoch 18/100\n",
      "8000/8000 [==============================] - 1044s 131ms/step - loss: 0.1064 - acc: 0.9801 - val_loss: 0.3277 - val_acc: 0.8700\n",
      "Epoch 19/100\n",
      "8000/8000 [==============================] - 1046s 131ms/step - loss: 0.1063 - acc: 0.9778 - val_loss: 0.0706 - val_acc: 0.9875\n",
      "Epoch 20/100\n",
      "8000/8000 [==============================] - 1055s 132ms/step - loss: 0.0680 - acc: 0.9843 - val_loss: 0.0833 - val_acc: 0.9725\n",
      "Epoch 21/100\n",
      "8000/8000 [==============================] - 1055s 132ms/step - loss: 0.0729 - acc: 0.9859 - val_loss: 0.0834 - val_acc: 0.9850\n",
      "Epoch 22/100\n",
      "8000/8000 [==============================] - 1061s 133ms/step - loss: 0.0749 - acc: 0.9830 - val_loss: 0.1049 - val_acc: 0.9800\n",
      "Epoch 23/100\n",
      "8000/8000 [==============================] - 1064s 133ms/step - loss: 0.0644 - acc: 0.9860 - val_loss: 0.0758 - val_acc: 0.9775\n",
      "Epoch 24/100\n",
      "8000/8000 [==============================] - 1067s 133ms/step - loss: 0.0642 - acc: 0.9881 - val_loss: 0.7790 - val_acc: 0.9175\n",
      "Epoch 25/100\n",
      "8000/8000 [==============================] - 1066s 133ms/step - loss: 0.0712 - acc: 0.9862 - val_loss: 0.0701 - val_acc: 0.9900\n",
      "Epoch 26/100\n",
      "8000/8000 [==============================] - 1066s 133ms/step - loss: 0.0521 - acc: 0.9895 - val_loss: 0.0866 - val_acc: 0.9800\n",
      "Epoch 27/100\n",
      "8000/8000 [==============================] - 1071s 134ms/step - loss: 0.0509 - acc: 0.9905 - val_loss: 0.0963 - val_acc: 0.9800\n",
      "Epoch 28/100\n",
      "8000/8000 [==============================] - 1074s 134ms/step - loss: 0.0487 - acc: 0.9892 - val_loss: 0.1126 - val_acc: 0.9825\n",
      "Epoch 29/100\n",
      "8000/8000 [==============================] - 1075s 134ms/step - loss: 0.0486 - acc: 0.9891 - val_loss: 0.1130 - val_acc: 0.9800\n",
      "Epoch 30/100\n",
      "8000/8000 [==============================] - 1077s 135ms/step - loss: 0.0465 - acc: 0.9900 - val_loss: 0.1121 - val_acc: 0.9800\n",
      "Epoch 31/100\n",
      "8000/8000 [==============================] - 1081s 135ms/step - loss: 0.0432 - acc: 0.9899 - val_loss: 0.1451 - val_acc: 0.9725\n",
      "Epoch 32/100\n",
      "8000/8000 [==============================] - 1082s 135ms/step - loss: 0.0463 - acc: 0.9891 - val_loss: 0.0551 - val_acc: 0.9925\n",
      "Epoch 33/100\n",
      "8000/8000 [==============================] - 1072s 134ms/step - loss: 0.0609 - acc: 0.9882 - val_loss: 0.0983 - val_acc: 0.9850\n",
      "Epoch 34/100\n",
      "8000/8000 [==============================] - 1082s 135ms/step - loss: 0.0642 - acc: 0.9868 - val_loss: 0.0803 - val_acc: 0.9850\n",
      "Epoch 35/100\n",
      "8000/8000 [==============================] - 1085s 136ms/step - loss: 0.0494 - acc: 0.9881 - val_loss: 0.0870 - val_acc: 0.9825\n",
      "Epoch 36/100\n",
      "8000/8000 [==============================] - 1085s 136ms/step - loss: 0.0386 - acc: 0.9906 - val_loss: 0.1299 - val_acc: 0.9625\n",
      "Epoch 37/100\n"
     ]
    },
    {
     "name": "stdout",
     "output_type": "stream",
     "text": [
      "8000/8000 [==============================] - 1094s 137ms/step - loss: 0.0367 - acc: 0.9910 - val_loss: 0.2231 - val_acc: 0.9700\n",
      "Epoch 38/100\n",
      "8000/8000 [==============================] - 1099s 137ms/step - loss: 0.0356 - acc: 0.9915 - val_loss: 0.1116 - val_acc: 0.9850\n",
      "Epoch 39/100\n",
      "8000/8000 [==============================] - 1103s 138ms/step - loss: 0.0245 - acc: 0.9942 - val_loss: 0.1232 - val_acc: 0.9825\n",
      "Epoch 40/100\n",
      "8000/8000 [==============================] - 1103s 138ms/step - loss: 0.0268 - acc: 0.9924 - val_loss: 0.1455 - val_acc: 0.9800\n",
      "Epoch 41/100\n",
      "8000/8000 [==============================] - 1103s 138ms/step - loss: 0.0384 - acc: 0.9924 - val_loss: 0.1332 - val_acc: 0.9825\n",
      "Epoch 42/100\n",
      "8000/8000 [==============================] - 1103s 138ms/step - loss: 0.0328 - acc: 0.9931 - val_loss: 0.1331 - val_acc: 0.9825\n",
      "Epoch 43/100\n",
      "8000/8000 [==============================] - 1109s 139ms/step - loss: 0.0238 - acc: 0.9935 - val_loss: 0.1258 - val_acc: 0.9825\n",
      "Epoch 44/100\n",
      "8000/8000 [==============================] - 1098s 137ms/step - loss: 0.0318 - acc: 0.9926 - val_loss: 0.1213 - val_acc: 0.9825\n",
      "Epoch 45/100\n",
      "8000/8000 [==============================] - 1111s 139ms/step - loss: 0.0722 - acc: 0.9844 - val_loss: 0.0812 - val_acc: 0.9875\n",
      "Epoch 46/100\n",
      "8000/8000 [==============================] - 1112s 139ms/step - loss: 0.0779 - acc: 0.9801 - val_loss: 0.1146 - val_acc: 0.9825\n",
      "Epoch 47/100\n",
      "8000/8000 [==============================] - 1111s 139ms/step - loss: 0.0411 - acc: 0.9909 - val_loss: 0.1162 - val_acc: 0.9700\n",
      "Epoch 48/100\n",
      "8000/8000 [==============================] - 1115s 139ms/step - loss: 0.0334 - acc: 0.9910 - val_loss: 0.1108 - val_acc: 0.9775\n",
      "Epoch 49/100\n",
      "8000/8000 [==============================] - 1118s 140ms/step - loss: 0.0294 - acc: 0.9940 - val_loss: 0.1032 - val_acc: 0.9825\n",
      "Epoch 50/100\n",
      "8000/8000 [==============================] - 1116s 139ms/step - loss: 0.0260 - acc: 0.9934 - val_loss: 0.0840 - val_acc: 0.9900\n",
      "Epoch 51/100\n",
      "8000/8000 [==============================] - 1119s 140ms/step - loss: 0.0227 - acc: 0.9940 - val_loss: 0.1736 - val_acc: 0.9775\n",
      "Epoch 52/100\n",
      "8000/8000 [==============================] - 1124s 140ms/step - loss: 0.0198 - acc: 0.9946 - val_loss: 0.1052 - val_acc: 0.9825\n",
      "Epoch 53/100\n",
      "8000/8000 [==============================] - 1124s 141ms/step - loss: 0.0196 - acc: 0.9955 - val_loss: 0.1288 - val_acc: 0.9750\n",
      "Epoch 54/100\n",
      "8000/8000 [==============================] - 1125s 141ms/step - loss: 0.0168 - acc: 0.9959 - val_loss: 0.1132 - val_acc: 0.9825\n",
      "Epoch 55/100\n",
      "8000/8000 [==============================] - 1126s 141ms/step - loss: 0.0328 - acc: 0.9919 - val_loss: 0.2255 - val_acc: 0.9700\n",
      "Epoch 56/100\n",
      "8000/8000 [==============================] - 1127s 141ms/step - loss: 0.0438 - acc: 0.9903 - val_loss: 0.0673 - val_acc: 0.9850\n",
      "Epoch 57/100\n",
      "8000/8000 [==============================] - 1130s 141ms/step - loss: 0.0412 - acc: 0.9904 - val_loss: 0.0959 - val_acc: 0.9825\n",
      "Epoch 58/100\n",
      "8000/8000 [==============================] - 1096s 137ms/step - loss: 0.0286 - acc: 0.9921 - val_loss: 0.1636 - val_acc: 0.9575\n",
      "Epoch 59/100\n",
      "8000/8000 [==============================] - 1106s 138ms/step - loss: 0.0311 - acc: 0.9918 - val_loss: 0.1455 - val_acc: 0.9800\n",
      "Epoch 60/100\n",
      "8000/8000 [==============================] - 1133s 142ms/step - loss: 0.0300 - acc: 0.9930 - val_loss: 0.1073 - val_acc: 0.9850\n",
      "Epoch 61/100\n",
      "8000/8000 [==============================] - 1136s 142ms/step - loss: 0.0171 - acc: 0.9951 - val_loss: 0.1452 - val_acc: 0.9800\n",
      "Epoch 62/100\n",
      "8000/8000 [==============================] - 1140s 142ms/step - loss: 0.0200 - acc: 0.9948 - val_loss: 0.1443 - val_acc: 0.9850\n",
      "Epoch 63/100\n",
      "8000/8000 [==============================] - 1140s 142ms/step - loss: 0.0154 - acc: 0.9954 - val_loss: 0.1367 - val_acc: 0.9850\n",
      "Epoch 64/100\n",
      "8000/8000 [==============================] - 1140s 142ms/step - loss: 0.0158 - acc: 0.9949 - val_loss: 0.1506 - val_acc: 0.9825\n",
      "Epoch 65/100\n",
      "8000/8000 [==============================] - 1138s 142ms/step - loss: 0.0203 - acc: 0.9933 - val_loss: 0.1570 - val_acc: 0.9775\n",
      "Epoch 66/100\n",
      "8000/8000 [==============================] - 1138s 142ms/step - loss: 0.0238 - acc: 0.9948 - val_loss: 0.2443 - val_acc: 0.9725\n",
      "Epoch 67/100\n",
      "8000/8000 [==============================] - 1139s 142ms/step - loss: 0.0174 - acc: 0.9954 - val_loss: 0.1640 - val_acc: 0.9800\n",
      "Epoch 68/100\n",
      "8000/8000 [==============================] - 1141s 143ms/step - loss: 0.0145 - acc: 0.9959 - val_loss: 0.1655 - val_acc: 0.9850\n",
      "Epoch 69/100\n",
      "8000/8000 [==============================] - 1139s 142ms/step - loss: 0.0399 - acc: 0.9925 - val_loss: 0.2076 - val_acc: 0.9700\n",
      "Epoch 70/100\n",
      "8000/8000 [==============================] - 1141s 143ms/step - loss: 0.0398 - acc: 0.9922 - val_loss: 0.2800 - val_acc: 0.9650\n",
      "Epoch 71/100\n",
      "8000/8000 [==============================] - 1136s 142ms/step - loss: 0.0379 - acc: 0.9916 - val_loss: 0.2488 - val_acc: 0.9700\n",
      "Epoch 72/100\n",
      "8000/8000 [==============================] - 1140s 143ms/step - loss: 0.0395 - acc: 0.9911 - val_loss: 0.4674 - val_acc: 0.9550\n",
      "Epoch 73/100\n",
      "8000/8000 [==============================] - 1138s 142ms/step - loss: 0.0258 - acc: 0.9939 - val_loss: 0.2684 - val_acc: 0.9750\n",
      "Epoch 74/100\n",
      "8000/8000 [==============================] - 1139s 142ms/step - loss: 0.0220 - acc: 0.9933 - val_loss: 0.2403 - val_acc: 0.9625\n",
      "Epoch 75/100\n",
      "8000/8000 [==============================] - 1141s 143ms/step - loss: 0.0169 - acc: 0.9945 - val_loss: 0.1237 - val_acc: 0.9800\n",
      "Epoch 76/100\n",
      "8000/8000 [==============================] - 1142s 143ms/step - loss: 0.0170 - acc: 0.9944 - val_loss: 0.0734 - val_acc: 0.9925\n",
      "Epoch 77/100\n",
      "8000/8000 [==============================] - 1139s 142ms/step - loss: 0.0197 - acc: 0.9944 - val_loss: 0.1007 - val_acc: 0.9750\n",
      "Epoch 78/100\n",
      "8000/8000 [==============================] - 1138s 142ms/step - loss: 0.0143 - acc: 0.9954 - val_loss: 0.0925 - val_acc: 0.9825\n",
      "Epoch 79/100\n",
      "8000/8000 [==============================] - 1140s 142ms/step - loss: 0.0157 - acc: 0.9951 - val_loss: 0.1203 - val_acc: 0.9825\n",
      "Epoch 80/100\n",
      "8000/8000 [==============================] - 1142s 143ms/step - loss: 0.0168 - acc: 0.9959 - val_loss: 0.1217 - val_acc: 0.9900\n",
      "Epoch 81/100\n",
      "8000/8000 [==============================] - 1145s 143ms/step - loss: 0.0126 - acc: 0.9952 - val_loss: 0.1069 - val_acc: 0.9900\n",
      "Epoch 82/100\n",
      "8000/8000 [==============================] - 1142s 143ms/step - loss: 0.0178 - acc: 0.9944 - val_loss: 0.1452 - val_acc: 0.9825\n",
      "Epoch 83/100\n",
      "8000/8000 [==============================] - 1143s 143ms/step - loss: 0.0117 - acc: 0.9964 - val_loss: 0.2687 - val_acc: 0.9650\n",
      "Epoch 84/100\n",
      "8000/8000 [==============================] - 1140s 143ms/step - loss: 0.0135 - acc: 0.9964 - val_loss: 0.1309 - val_acc: 0.9825\n",
      "Epoch 85/100\n",
      "8000/8000 [==============================] - 1143s 143ms/step - loss: 0.0200 - acc: 0.9942 - val_loss: 0.1177 - val_acc: 0.9875\n",
      "Epoch 86/100\n",
      "8000/8000 [==============================] - 1141s 143ms/step - loss: 0.0172 - acc: 0.9952 - val_loss: 0.0455 - val_acc: 0.9950\n",
      "Epoch 87/100\n",
      "8000/8000 [==============================] - 1142s 143ms/step - loss: 0.0139 - acc: 0.9956 - val_loss: 0.0980 - val_acc: 0.9925\n",
      "Epoch 88/100\n",
      "8000/8000 [==============================] - 1143s 143ms/step - loss: 0.0198 - acc: 0.9940 - val_loss: 0.0986 - val_acc: 0.9875\n",
      "Epoch 89/100\n",
      "8000/8000 [==============================] - 1143s 143ms/step - loss: 0.0250 - acc: 0.9931 - val_loss: 0.1053 - val_acc: 0.9875\n",
      "Epoch 90/100\n",
      "8000/8000 [==============================] - 1141s 143ms/step - loss: 0.0149 - acc: 0.9959 - val_loss: 0.1313 - val_acc: 0.9850\n",
      "Epoch 91/100\n",
      "8000/8000 [==============================] - 1143s 143ms/step - loss: 0.0182 - acc: 0.9942 - val_loss: 0.1640 - val_acc: 0.9850\n",
      "Epoch 92/100\n",
      "8000/8000 [==============================] - 1142s 143ms/step - loss: 0.0247 - acc: 0.9935 - val_loss: 0.1412 - val_acc: 0.9875\n",
      "Epoch 93/100\n",
      "8000/8000 [==============================] - 1142s 143ms/step - loss: 0.0134 - acc: 0.9955 - val_loss: 0.0877 - val_acc: 0.9925\n",
      "Epoch 94/100\n",
      "8000/8000 [==============================] - 1144s 143ms/step - loss: 0.0375 - acc: 0.9924 - val_loss: 0.1785 - val_acc: 0.9775\n",
      "Epoch 95/100\n"
     ]
    },
    {
     "name": "stdout",
     "output_type": "stream",
     "text": [
      "8000/8000 [==============================] - 1144s 143ms/step - loss: 0.0135 - acc: 0.9966 - val_loss: 0.1802 - val_acc: 0.9725\n",
      "Epoch 96/100\n",
      "8000/8000 [==============================] - 1146s 143ms/step - loss: 0.0106 - acc: 0.9965 - val_loss: 0.1667 - val_acc: 0.9700\n",
      "Epoch 97/100\n",
      "8000/8000 [==============================] - 1142s 143ms/step - loss: 0.0187 - acc: 0.9951 - val_loss: 0.1095 - val_acc: 0.9800\n",
      "Epoch 98/100\n",
      "8000/8000 [==============================] - 1139s 142ms/step - loss: 0.0103 - acc: 0.9966 - val_loss: 0.1110 - val_acc: 0.9875\n",
      "Epoch 99/100\n",
      "8000/8000 [==============================] - 1140s 142ms/step - loss: 0.0162 - acc: 0.9963 - val_loss: 0.1291 - val_acc: 0.9850\n",
      "Epoch 100/100\n",
      "8000/8000 [==============================] - 1140s 143ms/step - loss: 0.0102 - acc: 0.9965 - val_loss: 0.1224 - val_acc: 0.9875\n"
     ]
    },
    {
     "data": {
      "text/plain": [
       "<keras.callbacks.History at 0x24e4153cc08>"
      ]
     },
     "execution_count": 16,
     "metadata": {},
     "output_type": "execute_result"
    }
   ],
   "source": [
    "model.fit(X_training, y_training_oh, batch_size=128, epochs=100, shuffle=True,\n",
    "         validation_data = [X_val, y_val_oh], callbacks = [tensorboard])"
   ]
  },
  {
   "cell_type": "code",
   "execution_count": null,
   "metadata": {},
   "outputs": [],
   "source": []
  },
  {
   "cell_type": "code",
   "execution_count": 25,
   "metadata": {},
   "outputs": [],
   "source": [
    "# get predictions on validation set\n",
    "labels = y_val\n",
    "preds = model.predict(X_val)\n",
    "preds_text = [label_decoder_dict[v] for v in np.argmax(preds, axis=1)]"
   ]
  },
  {
   "cell_type": "code",
   "execution_count": 22,
   "metadata": {},
   "outputs": [],
   "source": [
    "# get predictions on training set\n",
    "labels = y_training[:200]\n",
    "preds = model.predict(X_training[:200])\n",
    "preds_text = [label_decoder_dict[v] for v in np.argmax(preds, axis=1)]"
   ]
  },
  {
   "cell_type": "code",
   "execution_count": 26,
   "metadata": {},
   "outputs": [],
   "source": [
    "results = pd.DataFrame({'labels':labels, 'preds':preds_text})"
   ]
  },
  {
   "cell_type": "code",
   "execution_count": 27,
   "metadata": {},
   "outputs": [
    {
     "data": {
      "text/html": [
       "<div>\n",
       "<style scoped>\n",
       "    .dataframe tbody tr th:only-of-type {\n",
       "        vertical-align: middle;\n",
       "    }\n",
       "\n",
       "    .dataframe tbody tr th {\n",
       "        vertical-align: top;\n",
       "    }\n",
       "\n",
       "    .dataframe thead th {\n",
       "        text-align: right;\n",
       "    }\n",
       "</style>\n",
       "<table border=\"1\" class=\"dataframe\">\n",
       "  <thead>\n",
       "    <tr style=\"text-align: right;\">\n",
       "      <th>preds</th>\n",
       "      <th>empty</th>\n",
       "      <th>enough</th>\n",
       "      <th>not_enough</th>\n",
       "    </tr>\n",
       "    <tr>\n",
       "      <th>labels</th>\n",
       "      <th></th>\n",
       "      <th></th>\n",
       "      <th></th>\n",
       "    </tr>\n",
       "  </thead>\n",
       "  <tbody>\n",
       "    <tr>\n",
       "      <th>empty</th>\n",
       "      <td>196</td>\n",
       "      <td>4</td>\n",
       "      <td>0</td>\n",
       "    </tr>\n",
       "    <tr>\n",
       "      <th>enough</th>\n",
       "      <td>1</td>\n",
       "      <td>99</td>\n",
       "      <td>0</td>\n",
       "    </tr>\n",
       "    <tr>\n",
       "      <th>not_enough</th>\n",
       "      <td>0</td>\n",
       "      <td>0</td>\n",
       "      <td>100</td>\n",
       "    </tr>\n",
       "  </tbody>\n",
       "</table>\n",
       "</div>"
      ],
      "text/plain": [
       "preds       empty  enough  not_enough\n",
       "labels                               \n",
       "empty         196       4           0\n",
       "enough          1      99           0\n",
       "not_enough      0       0         100"
      ]
     },
     "execution_count": 27,
     "metadata": {},
     "output_type": "execute_result"
    }
   ],
   "source": [
    "pd.crosstab(results['labels'], results['preds'])"
   ]
  },
  {
   "cell_type": "code",
   "execution_count": 20,
   "metadata": {},
   "outputs": [],
   "source": [
    "model.save('trained_models/{}.h5'.format(version))"
   ]
  },
  {
   "cell_type": "code",
   "execution_count": 21,
   "metadata": {},
   "outputs": [
    {
     "data": {
      "text/plain": [
       "'9722715'"
      ]
     },
     "execution_count": 21,
     "metadata": {},
     "output_type": "execute_result"
    }
   ],
   "source": [
    "version"
   ]
  },
  {
   "cell_type": "markdown",
   "metadata": {},
   "source": [
    "####  version notes\n",
    "\n",
    "- 1st: good data, 1000.  perfect on train and test but overfitting. randomizing where words appear in clip but only using a few dozen clips.\n",
    "- 2nd: good data, 4000. perfect on train and test but overfitting. same as above.\n",
    "\n",
    "add data augmentation.\n",
    "\n",
    "- `4055836`: train on 1000 using `gru_model2`, after (4x4) data augmentation on each of enoughs, not_enoughs, empty. high 90s, except for predicting some not_enoughs as enoughs.\n",
    "- `4058922`: train on 4000 using `gru_model2` for 2 epochs.  val set pulls from different folders of augmented clips (but same original 10 clips).\n",
    "\n",
    "add train/val split at original recorded_clip level.\n",
    "\n",
    "- `4106576`: train on 1000 using LSTM `model` for 20 epochs.  data clips were split into 8/10 for train and 2/10 for val, and then augmented 5x5 each, with ps sigma = 2.5/2 and ts sigma = 0.4/2.  was perfect on both train and val!\n",
    "- `4109505`: same as previous, but 5 epochs with 4000 training samples. also basically perfect on train and val.\n",
    "- `4192521`: 4000 samples with 50+ 'collected' backgrounds. 10 epochs. overfits around 8th.  predicts 'enough' too often but does pretty good with 'not enough'\n",
    "- `4206950`: 8000 samples like previous, but batch size = 128 instead of 64.\n",
    "\n",
    "switch to new 'enough' samples (k.), and add some more 'not enough' samples.\n",
    "\n",
    "- `4909928`: train on 1000 using LSTM `model` for 5 epochs, with new different 'enough' samples.  seemed to struggle so trying `gru_model`.\n",
    "- `4206950`: 1000 for 10 epochs using `gru_model`. does perfect on empty and enough, but thinks 92% of the not_enough's are empty.\n",
    "- `4913454`: 4000 for 5 epochs using `gru_model`. \n",
    "- `4943569`: same but for 20 epochs.  did almost perfect on train and val, but during runtime only predicts not_enough.  needs more noisy backgrounds, and maybe less epochs training so it generalizes better.\n",
    "\n",
    "record 720 more background clips.\n",
    "- `6782372`: 4000 for 10 epochs using `gru_model`. started to improve after 6 epochs so i'll retrain for 20 total. \n",
    "- `6788415`: 4000 for 20 epochs, didn't do much better.\n",
    "\n",
    "switch class mix from 333/333/334 to 200/200/600 (enough/not_enough/empty)\n",
    "\n",
    "- `6860093`: 8000 for 10 epochs with the new mix.  still `gru_model`. pretty bad so not saving for runtime testing.\n",
    "- `6880363`: 8000 for 100 epochs. 98% recall on 'empty', 100% on 'enough', and 94% on 'not_enough' on val set. no good during runtime.\n",
    "- `8093344`: 8000 for 30 epochs, but added custom loss with label_smoothing=0.2. does well on enough and not_enough, but horrible on empties (on val).\n",
    "\n",
    "change training and val data to not decrease background level by 20 before laying sample on\n",
    "- `9556739`: returning after pause.  trying to recreate `6860093` to see if i ever updated training and val data with above comment.  i'm guessing i didn't yet. update: yes, this is the case.  updating now.\n",
    "- `9568749`: 8000 for 10 epochs with new data that has higher background noise level. still `gru_model`.  validation perf: 91% recall on 'empty' (the rest were empties classified as enough), 96% on 'enough' and 99% on 'not_enough'.  going to retrain for 40 epochs.\n",
    "- `9580154`: same for 40 epochs. val perf: 98% recall on 'empty', 100% on 'enough', 98% on 'not_enough'.  didn't do very well during runtime though.  on val:\n",
    "\n",
    "`empty\t    196\t3\t1\n",
    "enough\t    0\t100\t0\n",
    "not_enough\t0\t2\t98`\n",
    "\n",
    "- `9722715`: same for 100 epochs.  so identical to `6880363` setup but with data with louder background noise level.\n",
    "\n",
    "`empty\t    196\t4\t0\n",
    "enough\t    1\t99\t0\n",
    "not_enough\t0\t0\t100`"
   ]
  },
  {
   "cell_type": "code",
   "execution_count": null,
   "metadata": {},
   "outputs": [],
   "source": []
  },
  {
   "cell_type": "code",
   "execution_count": null,
   "metadata": {
    "collapsed": true
   },
   "outputs": [],
   "source": []
  }
 ],
 "metadata": {
  "kernelspec": {
   "display_name": "Python 3",
   "language": "python",
   "name": "python3"
  },
  "language_info": {
   "codemirror_mode": {
    "name": "ipython",
    "version": 3
   },
   "file_extension": ".py",
   "mimetype": "text/x-python",
   "name": "python",
   "nbconvert_exporter": "python",
   "pygments_lexer": "ipython3",
   "version": "3.7.4"
  }
 },
 "nbformat": 4,
 "nbformat_minor": 2
}
